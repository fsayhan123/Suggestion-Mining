{
 "cells": [
  {
   "cell_type": "code",
   "execution_count": 1,
   "metadata": {},
   "outputs": [],
   "source": [
    "import pandas as pd \n",
    "import numpy as np\n",
    "import matplotlib.pyplot as plt\n",
    "import seaborn as sns\n",
    "\n",
    "from sklearn.naive_bayes import GaussianNB, MultinomialNB\n",
    "from sklearn.model_selection import KFold\n",
    "from sklearn.feature_extraction.text import TfidfVectorizer, CountVectorizer\n",
    "from sklearn.metrics import f1_score, recall_score, accuracy_score, precision_score\n",
    "from sklearn.metrics import confusion_matrix\n",
    "\n",
    "import string \n",
    "import spacy\n",
    "nlp = spacy.load(\"en_core_web_sm\")"
   ]
  },
  {
   "cell_type": "markdown",
   "metadata": {},
   "source": [
    "## Overview of Naive Bayes and TF-IDF Vectorization \n",
    "\n",
    "In Classification tasks where we use a probabilistic model, we want to compute the probability of a all class given the observations, denoted as $P(Y=y|X)$, where $X$ is a vector consisting of $n$ independent variables, and $Y$ is the dependent variable, or the classification target. From the equation $P(Y=y|X)$, using Bayes Theorem, we can convert this equation to $\\frac{P(Y)P(X|Y)}{P(X)}$. Solving this equation for each $Y$ would give us a probability for each class, and to obtain a prediction for the given $X$, we would take the $\\arg\\max_{P(y|X)}$ as the predicted class. <br><br>\n",
    "\n",
    "Solving this equation $\\frac{P(Y)P(X|Y)}{P(X)}$ is however non-trivial. This is because $X$ is a vector of $n$ elements and this makes $P(X|Y)$ difficult to calculate. In Naive Bayes, an assumption is made that all $x_{i}$ are independent of each other. Thus, this equation can be converted to $\\frac{P(Y)P(x_{1}|Y)P(x_{2}|Y)....P(x_{n}|Y)}{P(X)}$. Since $P(X)$ is the same for a given value of $X$, the equation be simplified to $P(Y=y|X) = {P(Y) P(x_{1}|Y) P(x_{2}|Y) .... P(x_{n}|Y)}$. Without the independence assumption, $P(X|Y)$ would be equals to $P(x_{1}|Y) P(x_{2}|Y\\cap x_{1}) .... P(x_{n}| Y \\cap x_{1} \\cap... \\cap x_{n-1})$, which would be difficult to calculate<br><br>\n",
    "\n",
    "Prior = $P(Y)$ <br>\n",
    "Posterior = $P(Y|X)$ <br>\n",
    "Likelihood = $P(X|Y)$ <br><br>\n",
    "\n",
    "In the context of suggestion mining, where we use TF-IDF vectorizor to vectorize the text data, $Y = \\{0, 1\\}$, where $1$ represents a positive prediction that the text has a suggestion, and $0$ is a negative prediction. $X$ would be the data generated from the TF-IDF vectorizor. For TF-IDF vectorizors, we can fit each column of data to a normal distribution, and use that value to estimate the probability for any given $P(x_{i})$.(Gaussian Naive Bayes)\n",
    "\n",
    "## TF-IDF\n",
    "\n",
    "TF-IDF stands for Term Frequency-Inverse Document Frequency, and is a simple extension to the simple Bag of Words text vectorization method. This is the product of 2 terms, the Term Frequency (TF) and Inverse Document Frequency (IDF) <br>\n",
    "\n",
    "$TF(t,d) = f(t, d)$  <br>\n",
    "$IDF(t, D) =log\\frac{N}{|d \\in D: t \\in d|}$ <br>\n",
    "\n",
    "In other words, TF is the simply the count of number of times the word appeares within a particular document. IDF is the logarithm of the number of documents $N$ in the entire corpus, divided by the number of documents the term $t$ appears in."
   ]
  },
  {
   "cell_type": "markdown",
   "metadata": {},
   "source": [
    "## Data Cleaning"
   ]
  },
  {
   "cell_type": "code",
   "execution_count": 2,
   "metadata": {},
   "outputs": [],
   "source": [
    "train_data = pd.read_csv('./Data/App_Training.csv')\n",
    "test_data = pd.read_csv('./Data/App_Test_Labeled.csv')\n",
    "eval_data = pd.read_csv('./Data/SubtaskA_EvaluationData_labeled.csv', header = None, encoding = 'latin1')\n",
    "eval_data.columns = ['id', 'sentence', 'label']\n",
    "\n",
    "train_data.drop(labels = ['0'], axis = 1, inplace = True)\n",
    "test_data.drop(labels = ['0'], axis = 1, inplace = True)"
   ]
  },
  {
   "cell_type": "code",
   "execution_count": 3,
   "metadata": {},
   "outputs": [
    {
     "data": {
      "text/html": [
       "<div>\n",
       "<style scoped>\n",
       "    .dataframe tbody tr th:only-of-type {\n",
       "        vertical-align: middle;\n",
       "    }\n",
       "\n",
       "    .dataframe tbody tr th {\n",
       "        vertical-align: top;\n",
       "    }\n",
       "\n",
       "    .dataframe thead th {\n",
       "        text-align: right;\n",
       "    }\n",
       "</style>\n",
       "<table border=\"1\" class=\"dataframe\">\n",
       "  <thead>\n",
       "    <tr style=\"text-align: right;\">\n",
       "      <th></th>\n",
       "      <th>id</th>\n",
       "      <th>sentence</th>\n",
       "      <th>label</th>\n",
       "    </tr>\n",
       "  </thead>\n",
       "  <tbody>\n",
       "    <tr>\n",
       "      <th>0</th>\n",
       "      <td>663_3</td>\n",
       "      <td>Please enable removing language code from the...</td>\n",
       "      <td>1</td>\n",
       "    </tr>\n",
       "    <tr>\n",
       "      <th>1</th>\n",
       "      <td>663_4</td>\n",
       "      <td>Note in your csproj file there is a Supported...</td>\n",
       "      <td>0</td>\n",
       "    </tr>\n",
       "    <tr>\n",
       "      <th>2</th>\n",
       "      <td>664_1</td>\n",
       "      <td>Wich means the new version not fully replaced...</td>\n",
       "      <td>0</td>\n",
       "    </tr>\n",
       "    <tr>\n",
       "      <th>3</th>\n",
       "      <td>664_2</td>\n",
       "      <td>Some of my users will still receive the old x...</td>\n",
       "      <td>0</td>\n",
       "    </tr>\n",
       "    <tr>\n",
       "      <th>4</th>\n",
       "      <td>664_3</td>\n",
       "      <td>The store randomly gives the old xap or the n...</td>\n",
       "      <td>0</td>\n",
       "    </tr>\n",
       "  </tbody>\n",
       "</table>\n",
       "</div>"
      ],
      "text/plain": [
       "      id                                           sentence  label\n",
       "0  663_3   Please enable removing language code from the...      1\n",
       "1  663_4   Note in your csproj file there is a Supported...      0\n",
       "2  664_1   Wich means the new version not fully replaced...      0\n",
       "3  664_2   Some of my users will still receive the old x...      0\n",
       "4  664_3   The store randomly gives the old xap or the n...      0"
      ]
     },
     "metadata": {},
     "output_type": "display_data"
    },
    {
     "data": {
      "text/html": [
       "<div>\n",
       "<style scoped>\n",
       "    .dataframe tbody tr th:only-of-type {\n",
       "        vertical-align: middle;\n",
       "    }\n",
       "\n",
       "    .dataframe tbody tr th {\n",
       "        vertical-align: top;\n",
       "    }\n",
       "\n",
       "    .dataframe thead th {\n",
       "        text-align: right;\n",
       "    }\n",
       "</style>\n",
       "<table border=\"1\" class=\"dataframe\">\n",
       "  <thead>\n",
       "    <tr style=\"text-align: right;\">\n",
       "      <th></th>\n",
       "      <th>id</th>\n",
       "      <th>sentence</th>\n",
       "      <th>label</th>\n",
       "    </tr>\n",
       "  </thead>\n",
       "  <tbody>\n",
       "    <tr>\n",
       "      <th>0</th>\n",
       "      <td>1310_1</td>\n",
       "      <td>I am not asking Microsoft to Gives permission ...</td>\n",
       "      <td>1</td>\n",
       "    </tr>\n",
       "    <tr>\n",
       "      <th>1</th>\n",
       "      <td>1312_1</td>\n",
       "      <td>somewhere between Android and iPhone</td>\n",
       "      <td>0</td>\n",
       "    </tr>\n",
       "    <tr>\n",
       "      <th>2</th>\n",
       "      <td>1313_1</td>\n",
       "      <td>And in the Windows Store you can flag the App ...</td>\n",
       "      <td>0</td>\n",
       "    </tr>\n",
       "    <tr>\n",
       "      <th>3</th>\n",
       "      <td>1313_2</td>\n",
       "      <td>Many thanks Sameh Hi As we know there is a lot...</td>\n",
       "      <td>0</td>\n",
       "    </tr>\n",
       "    <tr>\n",
       "      <th>4</th>\n",
       "      <td>1313_3</td>\n",
       "      <td>The idea is that we can develop a regular app ...</td>\n",
       "      <td>1</td>\n",
       "    </tr>\n",
       "  </tbody>\n",
       "</table>\n",
       "</div>"
      ],
      "text/plain": [
       "       id                                           sentence  label\n",
       "0  1310_1  I am not asking Microsoft to Gives permission ...      1\n",
       "1  1312_1              somewhere between Android and iPhone       0\n",
       "2  1313_1  And in the Windows Store you can flag the App ...      0\n",
       "3  1313_2  Many thanks Sameh Hi As we know there is a lot...      0\n",
       "4  1313_3  The idea is that we can develop a regular app ...      1"
      ]
     },
     "metadata": {},
     "output_type": "display_data"
    },
    {
     "data": {
      "text/html": [
       "<div>\n",
       "<style scoped>\n",
       "    .dataframe tbody tr th:only-of-type {\n",
       "        vertical-align: middle;\n",
       "    }\n",
       "\n",
       "    .dataframe tbody tr th {\n",
       "        vertical-align: top;\n",
       "    }\n",
       "\n",
       "    .dataframe thead th {\n",
       "        text-align: right;\n",
       "    }\n",
       "</style>\n",
       "<table border=\"1\" class=\"dataframe\">\n",
       "  <thead>\n",
       "    <tr style=\"text-align: right;\">\n",
       "      <th></th>\n",
       "      <th>id</th>\n",
       "      <th>sentence</th>\n",
       "      <th>label</th>\n",
       "    </tr>\n",
       "  </thead>\n",
       "  <tbody>\n",
       "    <tr>\n",
       "      <th>0</th>\n",
       "      <td>9566</td>\n",
       "      <td>This would enable live traffic aware apps.</td>\n",
       "      <td>0</td>\n",
       "    </tr>\n",
       "    <tr>\n",
       "      <th>1</th>\n",
       "      <td>9569</td>\n",
       "      <td>Please try other formatting like bold italics ...</td>\n",
       "      <td>1</td>\n",
       "    </tr>\n",
       "    <tr>\n",
       "      <th>2</th>\n",
       "      <td>9576</td>\n",
       "      <td>Since computers were invented to save time I s...</td>\n",
       "      <td>1</td>\n",
       "    </tr>\n",
       "    <tr>\n",
       "      <th>3</th>\n",
       "      <td>9577</td>\n",
       "      <td>Allow rearranging if the user wants to change ...</td>\n",
       "      <td>1</td>\n",
       "    </tr>\n",
       "    <tr>\n",
       "      <th>4</th>\n",
       "      <td>9579</td>\n",
       "      <td>Add SIMD instructions for better use of ARM NE...</td>\n",
       "      <td>1</td>\n",
       "    </tr>\n",
       "  </tbody>\n",
       "</table>\n",
       "</div>"
      ],
      "text/plain": [
       "     id                                           sentence  label\n",
       "0  9566         This would enable live traffic aware apps.      0\n",
       "1  9569  Please try other formatting like bold italics ...      1\n",
       "2  9576  Since computers were invented to save time I s...      1\n",
       "3  9577  Allow rearranging if the user wants to change ...      1\n",
       "4  9579  Add SIMD instructions for better use of ARM NE...      1"
      ]
     },
     "metadata": {},
     "output_type": "display_data"
    }
   ],
   "source": [
    "display(train_data.head())\n",
    "display(test_data.head())\n",
    "display(eval_data.head())"
   ]
  },
  {
   "cell_type": "code",
   "execution_count": 4,
   "metadata": {},
   "outputs": [],
   "source": [
    "train_data['sentence'] = train_data['sentence'].apply(lambda x: \" \".join([word.lower() for word in x.split()]))\n",
    "test_data['sentence'] = test_data['sentence'].apply(lambda x: \" \".join([word.lower() for word in x.split()]))\n",
    "eval_data['sentence'] = eval_data['sentence'].apply(lambda x: \" \".join([word.lower() for word in x.split()]))\n",
    "\n",
    "train_data['sentence'] = train_data['sentence'].apply(lambda x: x.translate(str.maketrans('','', string.punctuation)))\n",
    "test_data['sentence'] = test_data['sentence'].apply(lambda x: x.translate(str.maketrans('','', string.punctuation)))\n",
    "eval_data['sentence'] = eval_data['sentence'].apply(lambda x: x.translate(str.maketrans('','', string.punctuation)))\n"
   ]
  },
  {
   "cell_type": "code",
   "execution_count": 5,
   "metadata": {},
   "outputs": [
    {
     "data": {
      "text/plain": [
       "'!\"#$%&\\'()*+,-./:;<=>?@[\\\\]^_`{|}~'"
      ]
     },
     "execution_count": 5,
     "metadata": {},
     "output_type": "execute_result"
    }
   ],
   "source": [
    "string.punctuation"
   ]
  },
  {
   "cell_type": "code",
   "execution_count": 7,
   "metadata": {},
   "outputs": [
    {
     "data": {
      "text/html": [
       "<div>\n",
       "<style scoped>\n",
       "    .dataframe tbody tr th:only-of-type {\n",
       "        vertical-align: middle;\n",
       "    }\n",
       "\n",
       "    .dataframe tbody tr th {\n",
       "        vertical-align: top;\n",
       "    }\n",
       "\n",
       "    .dataframe thead th {\n",
       "        text-align: right;\n",
       "    }\n",
       "</style>\n",
       "<table border=\"1\" class=\"dataframe\">\n",
       "  <thead>\n",
       "    <tr style=\"text-align: right;\">\n",
       "      <th></th>\n",
       "      <th>id</th>\n",
       "      <th>sentence</th>\n",
       "      <th>label</th>\n",
       "    </tr>\n",
       "  </thead>\n",
       "  <tbody>\n",
       "    <tr>\n",
       "      <th>0</th>\n",
       "      <td>663_3</td>\n",
       "      <td>please enable removing language code from the ...</td>\n",
       "      <td>1</td>\n",
       "    </tr>\n",
       "    <tr>\n",
       "      <th>1</th>\n",
       "      <td>663_4</td>\n",
       "      <td>note in your csproj file there is a supportedc...</td>\n",
       "      <td>0</td>\n",
       "    </tr>\n",
       "    <tr>\n",
       "      <th>2</th>\n",
       "      <td>664_1</td>\n",
       "      <td>wich means the new version not fully replaced ...</td>\n",
       "      <td>0</td>\n",
       "    </tr>\n",
       "    <tr>\n",
       "      <th>3</th>\n",
       "      <td>664_2</td>\n",
       "      <td>some of my users will still receive the old xa...</td>\n",
       "      <td>0</td>\n",
       "    </tr>\n",
       "    <tr>\n",
       "      <th>4</th>\n",
       "      <td>664_3</td>\n",
       "      <td>the store randomly gives the old xap or the ne...</td>\n",
       "      <td>0</td>\n",
       "    </tr>\n",
       "  </tbody>\n",
       "</table>\n",
       "</div>"
      ],
      "text/plain": [
       "      id                                           sentence  label\n",
       "0  663_3  please enable removing language code from the ...      1\n",
       "1  663_4  note in your csproj file there is a supportedc...      0\n",
       "2  664_1  wich means the new version not fully replaced ...      0\n",
       "3  664_2  some of my users will still receive the old xa...      0\n",
       "4  664_3  the store randomly gives the old xap or the ne...      0"
      ]
     },
     "metadata": {},
     "output_type": "display_data"
    },
    {
     "data": {
      "text/html": [
       "<div>\n",
       "<style scoped>\n",
       "    .dataframe tbody tr th:only-of-type {\n",
       "        vertical-align: middle;\n",
       "    }\n",
       "\n",
       "    .dataframe tbody tr th {\n",
       "        vertical-align: top;\n",
       "    }\n",
       "\n",
       "    .dataframe thead th {\n",
       "        text-align: right;\n",
       "    }\n",
       "</style>\n",
       "<table border=\"1\" class=\"dataframe\">\n",
       "  <thead>\n",
       "    <tr style=\"text-align: right;\">\n",
       "      <th></th>\n",
       "      <th>id</th>\n",
       "      <th>sentence</th>\n",
       "      <th>label</th>\n",
       "    </tr>\n",
       "  </thead>\n",
       "  <tbody>\n",
       "    <tr>\n",
       "      <th>0</th>\n",
       "      <td>1310_1</td>\n",
       "      <td>i am not asking microsoft to gives permission ...</td>\n",
       "      <td>1</td>\n",
       "    </tr>\n",
       "    <tr>\n",
       "      <th>1</th>\n",
       "      <td>1312_1</td>\n",
       "      <td>somewhere between android and iphone</td>\n",
       "      <td>0</td>\n",
       "    </tr>\n",
       "    <tr>\n",
       "      <th>2</th>\n",
       "      <td>1313_1</td>\n",
       "      <td>and in the windows store you can flag the app ...</td>\n",
       "      <td>0</td>\n",
       "    </tr>\n",
       "    <tr>\n",
       "      <th>3</th>\n",
       "      <td>1313_2</td>\n",
       "      <td>many thanks sameh hi as we know there is a lot...</td>\n",
       "      <td>0</td>\n",
       "    </tr>\n",
       "    <tr>\n",
       "      <th>4</th>\n",
       "      <td>1313_3</td>\n",
       "      <td>the idea is that we can develop a regular app ...</td>\n",
       "      <td>1</td>\n",
       "    </tr>\n",
       "  </tbody>\n",
       "</table>\n",
       "</div>"
      ],
      "text/plain": [
       "       id                                           sentence  label\n",
       "0  1310_1  i am not asking microsoft to gives permission ...      1\n",
       "1  1312_1               somewhere between android and iphone      0\n",
       "2  1313_1  and in the windows store you can flag the app ...      0\n",
       "3  1313_2  many thanks sameh hi as we know there is a lot...      0\n",
       "4  1313_3  the idea is that we can develop a regular app ...      1"
      ]
     },
     "metadata": {},
     "output_type": "display_data"
    },
    {
     "data": {
      "text/html": [
       "<div>\n",
       "<style scoped>\n",
       "    .dataframe tbody tr th:only-of-type {\n",
       "        vertical-align: middle;\n",
       "    }\n",
       "\n",
       "    .dataframe tbody tr th {\n",
       "        vertical-align: top;\n",
       "    }\n",
       "\n",
       "    .dataframe thead th {\n",
       "        text-align: right;\n",
       "    }\n",
       "</style>\n",
       "<table border=\"1\" class=\"dataframe\">\n",
       "  <thead>\n",
       "    <tr style=\"text-align: right;\">\n",
       "      <th></th>\n",
       "      <th>id</th>\n",
       "      <th>sentence</th>\n",
       "      <th>label</th>\n",
       "    </tr>\n",
       "  </thead>\n",
       "  <tbody>\n",
       "    <tr>\n",
       "      <th>0</th>\n",
       "      <td>9566</td>\n",
       "      <td>this would enable live traffic aware apps</td>\n",
       "      <td>0</td>\n",
       "    </tr>\n",
       "    <tr>\n",
       "      <th>1</th>\n",
       "      <td>9569</td>\n",
       "      <td>please try other formatting like bold italics ...</td>\n",
       "      <td>1</td>\n",
       "    </tr>\n",
       "    <tr>\n",
       "      <th>2</th>\n",
       "      <td>9576</td>\n",
       "      <td>since computers were invented to save time i s...</td>\n",
       "      <td>1</td>\n",
       "    </tr>\n",
       "    <tr>\n",
       "      <th>3</th>\n",
       "      <td>9577</td>\n",
       "      <td>allow rearranging if the user wants to change ...</td>\n",
       "      <td>1</td>\n",
       "    </tr>\n",
       "    <tr>\n",
       "      <th>4</th>\n",
       "      <td>9579</td>\n",
       "      <td>add simd instructions for better use of arm ne...</td>\n",
       "      <td>1</td>\n",
       "    </tr>\n",
       "  </tbody>\n",
       "</table>\n",
       "</div>"
      ],
      "text/plain": [
       "     id                                           sentence  label\n",
       "0  9566          this would enable live traffic aware apps      0\n",
       "1  9569  please try other formatting like bold italics ...      1\n",
       "2  9576  since computers were invented to save time i s...      1\n",
       "3  9577  allow rearranging if the user wants to change ...      1\n",
       "4  9579  add simd instructions for better use of arm ne...      1"
      ]
     },
     "metadata": {},
     "output_type": "display_data"
    }
   ],
   "source": [
    "display(train_data.head())\n",
    "display(test_data.head())\n",
    "display(eval_data.head())"
   ]
  },
  {
   "cell_type": "code",
   "execution_count": 36,
   "metadata": {},
   "outputs": [
    {
     "data": {
      "text/plain": [
       "{\"'d\",\n",
       " \"'ll\",\n",
       " \"'m\",\n",
       " \"'re\",\n",
       " \"'s\",\n",
       " \"'ve\",\n",
       " 'a',\n",
       " 'about',\n",
       " 'above',\n",
       " 'across',\n",
       " 'after',\n",
       " 'afterwards',\n",
       " 'again',\n",
       " 'against',\n",
       " 'all',\n",
       " 'almost',\n",
       " 'alone',\n",
       " 'along',\n",
       " 'already',\n",
       " 'also',\n",
       " 'although',\n",
       " 'always',\n",
       " 'am',\n",
       " 'among',\n",
       " 'amongst',\n",
       " 'amount',\n",
       " 'an',\n",
       " 'and',\n",
       " 'another',\n",
       " 'any',\n",
       " 'anyhow',\n",
       " 'anyone',\n",
       " 'anything',\n",
       " 'anyway',\n",
       " 'anywhere',\n",
       " 'are',\n",
       " 'around',\n",
       " 'as',\n",
       " 'at',\n",
       " 'back',\n",
       " 'be',\n",
       " 'became',\n",
       " 'because',\n",
       " 'become',\n",
       " 'becomes',\n",
       " 'becoming',\n",
       " 'been',\n",
       " 'before',\n",
       " 'beforehand',\n",
       " 'behind',\n",
       " 'being',\n",
       " 'below',\n",
       " 'beside',\n",
       " 'besides',\n",
       " 'between',\n",
       " 'beyond',\n",
       " 'both',\n",
       " 'bottom',\n",
       " 'but',\n",
       " 'by',\n",
       " 'ca',\n",
       " 'call',\n",
       " 'can',\n",
       " 'cannot',\n",
       " 'could',\n",
       " 'did',\n",
       " 'do',\n",
       " 'does',\n",
       " 'doing',\n",
       " 'done',\n",
       " 'down',\n",
       " 'due',\n",
       " 'during',\n",
       " 'each',\n",
       " 'eight',\n",
       " 'either',\n",
       " 'eleven',\n",
       " 'else',\n",
       " 'elsewhere',\n",
       " 'empty',\n",
       " 'enough',\n",
       " 'even',\n",
       " 'ever',\n",
       " 'every',\n",
       " 'everyone',\n",
       " 'everything',\n",
       " 'everywhere',\n",
       " 'except',\n",
       " 'few',\n",
       " 'fifteen',\n",
       " 'fifty',\n",
       " 'first',\n",
       " 'five',\n",
       " 'for',\n",
       " 'former',\n",
       " 'formerly',\n",
       " 'forty',\n",
       " 'four',\n",
       " 'from',\n",
       " 'front',\n",
       " 'full',\n",
       " 'further',\n",
       " 'get',\n",
       " 'give',\n",
       " 'go',\n",
       " 'had',\n",
       " 'has',\n",
       " 'have',\n",
       " 'he',\n",
       " 'hence',\n",
       " 'her',\n",
       " 'here',\n",
       " 'hereafter',\n",
       " 'hereby',\n",
       " 'herein',\n",
       " 'hereupon',\n",
       " 'hers',\n",
       " 'herself',\n",
       " 'him',\n",
       " 'himself',\n",
       " 'his',\n",
       " 'how',\n",
       " 'however',\n",
       " 'hundred',\n",
       " 'i',\n",
       " 'if',\n",
       " 'in',\n",
       " 'indeed',\n",
       " 'into',\n",
       " 'is',\n",
       " 'it',\n",
       " 'its',\n",
       " 'itself',\n",
       " 'just',\n",
       " 'keep',\n",
       " 'last',\n",
       " 'latter',\n",
       " 'latterly',\n",
       " 'least',\n",
       " 'less',\n",
       " 'made',\n",
       " 'make',\n",
       " 'many',\n",
       " 'may',\n",
       " 'me',\n",
       " 'meanwhile',\n",
       " 'might',\n",
       " 'mine',\n",
       " 'more',\n",
       " 'moreover',\n",
       " 'most',\n",
       " 'mostly',\n",
       " 'move',\n",
       " 'much',\n",
       " 'must',\n",
       " 'my',\n",
       " 'myself',\n",
       " \"n't\",\n",
       " 'name',\n",
       " 'namely',\n",
       " 'neither',\n",
       " 'never',\n",
       " 'nevertheless',\n",
       " 'next',\n",
       " 'nine',\n",
       " 'no',\n",
       " 'nobody',\n",
       " 'none',\n",
       " 'noone',\n",
       " 'nor',\n",
       " 'not',\n",
       " 'nothing',\n",
       " 'now',\n",
       " 'nowhere',\n",
       " 'n‘t',\n",
       " 'n’t',\n",
       " 'of',\n",
       " 'off',\n",
       " 'often',\n",
       " 'on',\n",
       " 'once',\n",
       " 'one',\n",
       " 'only',\n",
       " 'onto',\n",
       " 'or',\n",
       " 'other',\n",
       " 'others',\n",
       " 'otherwise',\n",
       " 'our',\n",
       " 'ours',\n",
       " 'ourselves',\n",
       " 'out',\n",
       " 'over',\n",
       " 'own',\n",
       " 'part',\n",
       " 'per',\n",
       " 'perhaps',\n",
       " 'please',\n",
       " 'put',\n",
       " 'quite',\n",
       " 'rather',\n",
       " 're',\n",
       " 'really',\n",
       " 'regarding',\n",
       " 'same',\n",
       " 'say',\n",
       " 'see',\n",
       " 'seem',\n",
       " 'seemed',\n",
       " 'seeming',\n",
       " 'seems',\n",
       " 'serious',\n",
       " 'several',\n",
       " 'she',\n",
       " 'should',\n",
       " 'show',\n",
       " 'side',\n",
       " 'since',\n",
       " 'six',\n",
       " 'sixty',\n",
       " 'so',\n",
       " 'some',\n",
       " 'somehow',\n",
       " 'someone',\n",
       " 'something',\n",
       " 'sometime',\n",
       " 'sometimes',\n",
       " 'somewhere',\n",
       " 'still',\n",
       " 'such',\n",
       " 'take',\n",
       " 'ten',\n",
       " 'than',\n",
       " 'that',\n",
       " 'the',\n",
       " 'their',\n",
       " 'them',\n",
       " 'themselves',\n",
       " 'then',\n",
       " 'thence',\n",
       " 'there',\n",
       " 'thereafter',\n",
       " 'thereby',\n",
       " 'therefore',\n",
       " 'therein',\n",
       " 'thereupon',\n",
       " 'these',\n",
       " 'they',\n",
       " 'third',\n",
       " 'this',\n",
       " 'those',\n",
       " 'though',\n",
       " 'three',\n",
       " 'through',\n",
       " 'throughout',\n",
       " 'thru',\n",
       " 'thus',\n",
       " 'to',\n",
       " 'together',\n",
       " 'too',\n",
       " 'top',\n",
       " 'toward',\n",
       " 'towards',\n",
       " 'twelve',\n",
       " 'twenty',\n",
       " 'two',\n",
       " 'under',\n",
       " 'unless',\n",
       " 'until',\n",
       " 'up',\n",
       " 'upon',\n",
       " 'us',\n",
       " 'used',\n",
       " 'using',\n",
       " 'various',\n",
       " 'very',\n",
       " 'via',\n",
       " 'was',\n",
       " 'we',\n",
       " 'well',\n",
       " 'were',\n",
       " 'what',\n",
       " 'whatever',\n",
       " 'when',\n",
       " 'whence',\n",
       " 'whenever',\n",
       " 'where',\n",
       " 'whereafter',\n",
       " 'whereas',\n",
       " 'whereby',\n",
       " 'wherein',\n",
       " 'whereupon',\n",
       " 'wherever',\n",
       " 'whether',\n",
       " 'which',\n",
       " 'while',\n",
       " 'whither',\n",
       " 'who',\n",
       " 'whoever',\n",
       " 'whole',\n",
       " 'whom',\n",
       " 'whose',\n",
       " 'why',\n",
       " 'will',\n",
       " 'with',\n",
       " 'within',\n",
       " 'without',\n",
       " 'would',\n",
       " 'yet',\n",
       " 'you',\n",
       " 'your',\n",
       " 'yours',\n",
       " 'yourself',\n",
       " 'yourselves',\n",
       " '‘d',\n",
       " '‘ll',\n",
       " '‘m',\n",
       " '‘re',\n",
       " '‘s',\n",
       " '‘ve',\n",
       " '’d',\n",
       " '’ll',\n",
       " '’m',\n",
       " '’re',\n",
       " '’s',\n",
       " '’ve'}"
      ]
     },
     "execution_count": 36,
     "metadata": {},
     "output_type": "execute_result"
    }
   ],
   "source": [
    "nlp.Defaults.stop_words"
   ]
  },
  {
   "cell_type": "code",
   "execution_count": 5,
   "metadata": {},
   "outputs": [
    {
     "name": "stdout",
     "output_type": "stream",
     "text": [
      "0    0.754706\n",
      "1    0.245294\n",
      "Name: label, dtype: float64\n"
     ]
    },
    {
     "data": {
      "image/png": "[encoded data removed]",
      "text/plain": [
       "<Figure size 432x288 with 1 Axes>"
      ]
     },
     "metadata": {
      "needs_background": "light"
     },
     "output_type": "display_data"
    }
   ],
   "source": [
    "train_data['label'].value_counts().plot(kind = 'bar')\n",
    "print(train_data['label'].value_counts()/len(train_data))"
   ]
  },
  {
   "cell_type": "code",
   "execution_count": 29,
   "metadata": {},
   "outputs": [
    {
     "data": {
      "text/plain": [
       "0    6415\n",
       "1    2085\n",
       "Name: label, dtype: int64"
      ]
     },
     "execution_count": 29,
     "metadata": {},
     "output_type": "execute_result"
    }
   ],
   "source": [
    "train_data['label'].value_counts()"
   ]
  },
  {
   "cell_type": "code",
   "execution_count": 6,
   "metadata": {},
   "outputs": [
    {
     "data": {
      "text/html": [
       "<div>\n",
       "<style scoped>\n",
       "    .dataframe tbody tr th:only-of-type {\n",
       "        vertical-align: middle;\n",
       "    }\n",
       "\n",
       "    .dataframe tbody tr th {\n",
       "        vertical-align: top;\n",
       "    }\n",
       "\n",
       "    .dataframe thead th {\n",
       "        text-align: right;\n",
       "    }\n",
       "</style>\n",
       "<table border=\"1\" class=\"dataframe\">\n",
       "  <thead>\n",
       "    <tr style=\"text-align: right;\">\n",
       "      <th></th>\n",
       "      <th>aaa</th>\n",
       "      <th>ab</th>\n",
       "      <th>abandon</th>\n",
       "      <th>abandoned</th>\n",
       "      <th>abbility</th>\n",
       "      <th>abc</th>\n",
       "      <th>abcd</th>\n",
       "      <th>abi</th>\n",
       "      <th>abilities</th>\n",
       "      <th>ability</th>\n",
       "      <th>...</th>\n",
       "      <th>zindex</th>\n",
       "      <th>ziner</th>\n",
       "      <th>zip</th>\n",
       "      <th>zipping</th>\n",
       "      <th>zoom</th>\n",
       "      <th>zooming</th>\n",
       "      <th>zoomlevel</th>\n",
       "      <th>zune</th>\n",
       "      <th>zunes</th>\n",
       "      <th>ıts</th>\n",
       "    </tr>\n",
       "  </thead>\n",
       "  <tbody>\n",
       "    <tr>\n",
       "      <th>0</th>\n",
       "      <td>0</td>\n",
       "      <td>0</td>\n",
       "      <td>0</td>\n",
       "      <td>0</td>\n",
       "      <td>0</td>\n",
       "      <td>0</td>\n",
       "      <td>0</td>\n",
       "      <td>0</td>\n",
       "      <td>0</td>\n",
       "      <td>0</td>\n",
       "      <td>...</td>\n",
       "      <td>0</td>\n",
       "      <td>0</td>\n",
       "      <td>0</td>\n",
       "      <td>0</td>\n",
       "      <td>0</td>\n",
       "      <td>0</td>\n",
       "      <td>0</td>\n",
       "      <td>0</td>\n",
       "      <td>0</td>\n",
       "      <td>0</td>\n",
       "    </tr>\n",
       "    <tr>\n",
       "      <th>1</th>\n",
       "      <td>0</td>\n",
       "      <td>0</td>\n",
       "      <td>0</td>\n",
       "      <td>0</td>\n",
       "      <td>0</td>\n",
       "      <td>0</td>\n",
       "      <td>0</td>\n",
       "      <td>0</td>\n",
       "      <td>0</td>\n",
       "      <td>0</td>\n",
       "      <td>...</td>\n",
       "      <td>0</td>\n",
       "      <td>0</td>\n",
       "      <td>0</td>\n",
       "      <td>0</td>\n",
       "      <td>0</td>\n",
       "      <td>0</td>\n",
       "      <td>0</td>\n",
       "      <td>0</td>\n",
       "      <td>0</td>\n",
       "      <td>0</td>\n",
       "    </tr>\n",
       "    <tr>\n",
       "      <th>2</th>\n",
       "      <td>0</td>\n",
       "      <td>0</td>\n",
       "      <td>0</td>\n",
       "      <td>0</td>\n",
       "      <td>0</td>\n",
       "      <td>0</td>\n",
       "      <td>0</td>\n",
       "      <td>0</td>\n",
       "      <td>0</td>\n",
       "      <td>0</td>\n",
       "      <td>...</td>\n",
       "      <td>0</td>\n",
       "      <td>0</td>\n",
       "      <td>0</td>\n",
       "      <td>0</td>\n",
       "      <td>0</td>\n",
       "      <td>0</td>\n",
       "      <td>0</td>\n",
       "      <td>0</td>\n",
       "      <td>0</td>\n",
       "      <td>0</td>\n",
       "    </tr>\n",
       "    <tr>\n",
       "      <th>3</th>\n",
       "      <td>0</td>\n",
       "      <td>0</td>\n",
       "      <td>0</td>\n",
       "      <td>0</td>\n",
       "      <td>0</td>\n",
       "      <td>0</td>\n",
       "      <td>0</td>\n",
       "      <td>0</td>\n",
       "      <td>0</td>\n",
       "      <td>0</td>\n",
       "      <td>...</td>\n",
       "      <td>0</td>\n",
       "      <td>0</td>\n",
       "      <td>0</td>\n",
       "      <td>0</td>\n",
       "      <td>0</td>\n",
       "      <td>0</td>\n",
       "      <td>0</td>\n",
       "      <td>0</td>\n",
       "      <td>0</td>\n",
       "      <td>0</td>\n",
       "    </tr>\n",
       "    <tr>\n",
       "      <th>4</th>\n",
       "      <td>0</td>\n",
       "      <td>0</td>\n",
       "      <td>0</td>\n",
       "      <td>0</td>\n",
       "      <td>0</td>\n",
       "      <td>0</td>\n",
       "      <td>0</td>\n",
       "      <td>0</td>\n",
       "      <td>0</td>\n",
       "      <td>0</td>\n",
       "      <td>...</td>\n",
       "      <td>0</td>\n",
       "      <td>0</td>\n",
       "      <td>0</td>\n",
       "      <td>0</td>\n",
       "      <td>0</td>\n",
       "      <td>0</td>\n",
       "      <td>0</td>\n",
       "      <td>0</td>\n",
       "      <td>0</td>\n",
       "      <td>0</td>\n",
       "    </tr>\n",
       "  </tbody>\n",
       "</table>\n",
       "<p>5 rows × 8498 columns</p>\n",
       "</div>"
      ],
      "text/plain": [
       "   aaa  ab  abandon  abandoned  abbility  abc  abcd  abi  abilities  ability  \\\n",
       "0    0   0        0          0         0    0     0    0          0        0   \n",
       "1    0   0        0          0         0    0     0    0          0        0   \n",
       "2    0   0        0          0         0    0     0    0          0        0   \n",
       "3    0   0        0          0         0    0     0    0          0        0   \n",
       "4    0   0        0          0         0    0     0    0          0        0   \n",
       "\n",
       "   ...  zindex  ziner  zip  zipping  zoom  zooming  zoomlevel  zune  zunes  \\\n",
       "0  ...       0      0    0        0     0        0          0     0      0   \n",
       "1  ...       0      0    0        0     0        0          0     0      0   \n",
       "2  ...       0      0    0        0     0        0          0     0      0   \n",
       "3  ...       0      0    0        0     0        0          0     0      0   \n",
       "4  ...       0      0    0        0     0        0          0     0      0   \n",
       "\n",
       "   ıts  \n",
       "0    0  \n",
       "1    0  \n",
       "2    0  \n",
       "3    0  \n",
       "4    0  \n",
       "\n",
       "[5 rows x 8498 columns]"
      ]
     },
     "execution_count": 6,
     "metadata": {},
     "output_type": "execute_result"
    }
   ],
   "source": [
    "count_vectorizer = CountVectorizer()\n",
    "count_matrix = count_vectorizer.fit_transform(train_data['sentence']).toarray()\n",
    "count_df = pd.DataFrame(count_matrix, columns = count_vectorizer.get_feature_names_out ())\n",
    "count_df['label'] = train_data['label']\n",
    "count_df.head()"
   ]
  },
  {
   "cell_type": "code",
   "execution_count": 37,
   "metadata": {},
   "outputs": [
    {
     "data": {
      "text/plain": [
       "<matplotlib.axes._subplots.AxesSubplot at 0x1c53eed83d0>"
      ]
     },
     "execution_count": 37,
     "metadata": {},
     "output_type": "execute_result"
    },
    {
     "data": {
      "image/png": "[encoded data removed]",
      "text/plain": [
       "<Figure size 1440x720 with 1 Axes>"
      ]
     },
     "metadata": {
      "needs_background": "light"
     },
     "output_type": "display_data"
    }
   ],
   "source": [
    "#Plot top 25 words for positive\n",
    "pos_count_df = count_df[count_df['label'] == 1].copy()\n",
    "pos_count_df.drop(['label'],axis = 1, inplace = True)\n",
    "top_25_words = pos_count_df.sum().sort_values(ascending = False).iloc[0:25]\n",
    "plt.figure(figsize=(20, 10))\n",
    "plt.title(\"Top 25 words of positive class\")\n",
    "sns.barplot(x = top_25_words.index, y = top_25_words)"
   ]
  },
  {
   "cell_type": "code",
   "execution_count": 39,
   "metadata": {},
   "outputs": [
    {
     "data": {
      "text/plain": [
       "<matplotlib.axes._subplots.AxesSubplot at 0x1c56940f520>"
      ]
     },
     "execution_count": 39,
     "metadata": {},
     "output_type": "execute_result"
    },
    {
     "data": {
      "image/png": "[encoded data removed]",
      "text/plain": [
       "<Figure size 1440x720 with 1 Axes>"
      ]
     },
     "metadata": {
      "needs_background": "light"
     },
     "output_type": "display_data"
    }
   ],
   "source": [
    "#Plot top 25 words for negative\n",
    "neg_count_df = count_df[count_df['label'] == 0].copy()\n",
    "neg_count_df.drop(['label'],axis = 1, inplace = True)\n",
    "top_25_words = neg_count_df.sum().sort_values(ascending = False).iloc[0:25]\n",
    "plt.figure(figsize=(20, 10))\n",
    "plt.title(\"Top 25 words of negative class\")\n",
    "sns.barplot(x = top_25_words.index, y = top_25_words)"
   ]
  },
  {
   "cell_type": "markdown",
   "metadata": {},
   "source": [
    "By observation, most of the top few words appear in both negative and positive classes."
   ]
  },
  {
   "cell_type": "code",
   "execution_count": 7,
   "metadata": {},
   "outputs": [
    {
     "data": {
      "text/html": [
       "<div>\n",
       "<style scoped>\n",
       "    .dataframe tbody tr th:only-of-type {\n",
       "        vertical-align: middle;\n",
       "    }\n",
       "\n",
       "    .dataframe tbody tr th {\n",
       "        vertical-align: top;\n",
       "    }\n",
       "\n",
       "    .dataframe thead th {\n",
       "        text-align: right;\n",
       "    }\n",
       "</style>\n",
       "<table border=\"1\" class=\"dataframe\">\n",
       "  <thead>\n",
       "    <tr style=\"text-align: right;\">\n",
       "      <th></th>\n",
       "      <th>aaa compliant</th>\n",
       "      <th>ab reset</th>\n",
       "      <th>abandon market</th>\n",
       "      <th>abandon previous</th>\n",
       "      <th>abandoned like</th>\n",
       "      <th>abbility copy</th>\n",
       "      <th>abc sings</th>\n",
       "      <th>abcd ends</th>\n",
       "      <th>abi avoid</th>\n",
       "      <th>abi generating</th>\n",
       "      <th>...</th>\n",
       "      <th>zune property</th>\n",
       "      <th>zune ridiculous</th>\n",
       "      <th>zune software</th>\n",
       "      <th>zune sort</th>\n",
       "      <th>zune tile</th>\n",
       "      <th>zune timefull</th>\n",
       "      <th>zune wireless</th>\n",
       "      <th>zunes audible</th>\n",
       "      <th>ıts gona</th>\n",
       "      <th>label</th>\n",
       "    </tr>\n",
       "  </thead>\n",
       "  <tbody>\n",
       "    <tr>\n",
       "      <th>0</th>\n",
       "      <td>0</td>\n",
       "      <td>0</td>\n",
       "      <td>0</td>\n",
       "      <td>0</td>\n",
       "      <td>0</td>\n",
       "      <td>0</td>\n",
       "      <td>0</td>\n",
       "      <td>0</td>\n",
       "      <td>0</td>\n",
       "      <td>0</td>\n",
       "      <td>...</td>\n",
       "      <td>0</td>\n",
       "      <td>0</td>\n",
       "      <td>0</td>\n",
       "      <td>0</td>\n",
       "      <td>0</td>\n",
       "      <td>0</td>\n",
       "      <td>0</td>\n",
       "      <td>0</td>\n",
       "      <td>0</td>\n",
       "      <td>1</td>\n",
       "    </tr>\n",
       "    <tr>\n",
       "      <th>1</th>\n",
       "      <td>0</td>\n",
       "      <td>0</td>\n",
       "      <td>0</td>\n",
       "      <td>0</td>\n",
       "      <td>0</td>\n",
       "      <td>0</td>\n",
       "      <td>0</td>\n",
       "      <td>0</td>\n",
       "      <td>0</td>\n",
       "      <td>0</td>\n",
       "      <td>...</td>\n",
       "      <td>0</td>\n",
       "      <td>0</td>\n",
       "      <td>0</td>\n",
       "      <td>0</td>\n",
       "      <td>0</td>\n",
       "      <td>0</td>\n",
       "      <td>0</td>\n",
       "      <td>0</td>\n",
       "      <td>0</td>\n",
       "      <td>0</td>\n",
       "    </tr>\n",
       "    <tr>\n",
       "      <th>2</th>\n",
       "      <td>0</td>\n",
       "      <td>0</td>\n",
       "      <td>0</td>\n",
       "      <td>0</td>\n",
       "      <td>0</td>\n",
       "      <td>0</td>\n",
       "      <td>0</td>\n",
       "      <td>0</td>\n",
       "      <td>0</td>\n",
       "      <td>0</td>\n",
       "      <td>...</td>\n",
       "      <td>0</td>\n",
       "      <td>0</td>\n",
       "      <td>0</td>\n",
       "      <td>0</td>\n",
       "      <td>0</td>\n",
       "      <td>0</td>\n",
       "      <td>0</td>\n",
       "      <td>0</td>\n",
       "      <td>0</td>\n",
       "      <td>0</td>\n",
       "    </tr>\n",
       "    <tr>\n",
       "      <th>3</th>\n",
       "      <td>0</td>\n",
       "      <td>0</td>\n",
       "      <td>0</td>\n",
       "      <td>0</td>\n",
       "      <td>0</td>\n",
       "      <td>0</td>\n",
       "      <td>0</td>\n",
       "      <td>0</td>\n",
       "      <td>0</td>\n",
       "      <td>0</td>\n",
       "      <td>...</td>\n",
       "      <td>0</td>\n",
       "      <td>0</td>\n",
       "      <td>0</td>\n",
       "      <td>0</td>\n",
       "      <td>0</td>\n",
       "      <td>0</td>\n",
       "      <td>0</td>\n",
       "      <td>0</td>\n",
       "      <td>0</td>\n",
       "      <td>0</td>\n",
       "    </tr>\n",
       "    <tr>\n",
       "      <th>4</th>\n",
       "      <td>0</td>\n",
       "      <td>0</td>\n",
       "      <td>0</td>\n",
       "      <td>0</td>\n",
       "      <td>0</td>\n",
       "      <td>0</td>\n",
       "      <td>0</td>\n",
       "      <td>0</td>\n",
       "      <td>0</td>\n",
       "      <td>0</td>\n",
       "      <td>...</td>\n",
       "      <td>0</td>\n",
       "      <td>0</td>\n",
       "      <td>0</td>\n",
       "      <td>0</td>\n",
       "      <td>0</td>\n",
       "      <td>0</td>\n",
       "      <td>0</td>\n",
       "      <td>0</td>\n",
       "      <td>0</td>\n",
       "      <td>0</td>\n",
       "    </tr>\n",
       "  </tbody>\n",
       "</table>\n",
       "<p>5 rows × 47173 columns</p>\n",
       "</div>"
      ],
      "text/plain": [
       "   aaa compliant  ab reset  abandon market  abandon previous  abandoned like  \\\n",
       "0              0         0               0                 0               0   \n",
       "1              0         0               0                 0               0   \n",
       "2              0         0               0                 0               0   \n",
       "3              0         0               0                 0               0   \n",
       "4              0         0               0                 0               0   \n",
       "\n",
       "   abbility copy  abc sings  abcd ends  abi avoid  abi generating  ...  \\\n",
       "0              0          0          0          0               0  ...   \n",
       "1              0          0          0          0               0  ...   \n",
       "2              0          0          0          0               0  ...   \n",
       "3              0          0          0          0               0  ...   \n",
       "4              0          0          0          0               0  ...   \n",
       "\n",
       "   zune property  zune ridiculous  zune software  zune sort  zune tile  \\\n",
       "0              0                0              0          0          0   \n",
       "1              0                0              0          0          0   \n",
       "2              0                0              0          0          0   \n",
       "3              0                0              0          0          0   \n",
       "4              0                0              0          0          0   \n",
       "\n",
       "   zune timefull  zune wireless  zunes audible  ıts gona  label  \n",
       "0              0              0              0         0      1  \n",
       "1              0              0              0         0      0  \n",
       "2              0              0              0         0      0  \n",
       "3              0              0              0         0      0  \n",
       "4              0              0              0         0      0  \n",
       "\n",
       "[5 rows x 47173 columns]"
      ]
     },
     "execution_count": 7,
     "metadata": {},
     "output_type": "execute_result"
    }
   ],
   "source": [
    "#Plot but with bi-grams instead\n",
    "count_vectorizer = CountVectorizer(ngram_range = (2,2))\n",
    "count_matrix = count_vectorizer.fit_transform(train_data['sentence']).toarray()\n",
    "count_df = pd.DataFrame(count_matrix, columns = count_vectorizer.get_feature_names_out ())\n",
    "count_df['label'] = train_data['label']\n",
    "count_df.head()"
   ]
  },
  {
   "cell_type": "code",
   "execution_count": 8,
   "metadata": {},
   "outputs": [
    {
     "name": "stderr",
     "output_type": "stream",
     "text": [
      "<ipython-input-8-16d42d94d174>:3: SettingWithCopyWarning: \n",
      "A value is trying to be set on a copy of a slice from a DataFrame\n",
      "\n",
      "See the caveats in the documentation: https://pandas.pydata.org/pandas-docs/stable/user_guide/indexing.html#returning-a-view-versus-a-copy\n",
      "  pos_count_df.drop(['label'],axis = 1, inplace = True)\n"
     ]
    },
    {
     "data": {
      "text/plain": [
       "<matplotlib.axes._subplots.AxesSubplot at 0x1fa7f5ec7c0>"
      ]
     },
     "execution_count": 8,
     "metadata": {},
     "output_type": "execute_result"
    },
    {
     "data": {
      "image/png": "[encoded data removed]",
      "text/plain": [
       "<Figure size 1440x720 with 1 Axes>"
      ]
     },
     "metadata": {
      "needs_background": "light"
     },
     "output_type": "display_data"
    }
   ],
   "source": [
    "#Plot top 10 bi-grams for positive\n",
    "pos_count_df = count_df[count_df['label'] == 1]\n",
    "pos_count_df.drop(['label'],axis = 1, inplace = True)\n",
    "top_10_words = pos_count_df.sum().sort_values(ascending = False).iloc[0:10]\n",
    "plt.figure(figsize=(20, 10))\n",
    "plt.title(\"Top 10 bi-grams of positive class\")\n",
    "sns.barplot(x = top_10_words.index, y = top_10_words)"
   ]
  },
  {
   "cell_type": "code",
   "execution_count": 10,
   "metadata": {},
   "outputs": [
    {
     "name": "stderr",
     "output_type": "stream",
     "text": [
      "<ipython-input-10-1792d2f00ab9>:3: SettingWithCopyWarning: \n",
      "A value is trying to be set on a copy of a slice from a DataFrame\n",
      "\n",
      "See the caveats in the documentation: https://pandas.pydata.org/pandas-docs/stable/user_guide/indexing.html#returning-a-view-versus-a-copy\n",
      "  neg_count_df.drop(['label'],axis = 1, inplace = True)\n"
     ]
    },
    {
     "data": {
      "text/plain": [
       "<matplotlib.axes._subplots.AxesSubplot at 0x1fa252cb9d0>"
      ]
     },
     "execution_count": 10,
     "metadata": {},
     "output_type": "execute_result"
    },
    {
     "data": {
      "image/png": "[encoded data removed]",
      "text/plain": [
       "<Figure size 1440x720 with 1 Axes>"
      ]
     },
     "metadata": {
      "needs_background": "light"
     },
     "output_type": "display_data"
    }
   ],
   "source": [
    "#Plot top 10 bi-gram for negative\n",
    "neg_count_df = count_df[count_df['label'] == 0]\n",
    "neg_count_df.drop(['label'],axis = 1, inplace = True)\n",
    "top_10_words = neg_count_df.sum().sort_values(ascending = False).iloc[0:10]\n",
    "plt.figure(figsize=(20, 10))\n",
    "plt.title(\"Top 10 bi-grams of negative class\")\n",
    "sns.barplot(x = top_10_words.index, y = top_10_words)"
   ]
  },
  {
   "cell_type": "markdown",
   "metadata": {},
   "source": [
    "## Naive Bayes Classification Model"
   ]
  },
  {
   "cell_type": "markdown",
   "metadata": {},
   "source": [
    "### Gaussian Naive Bayes"
   ]
  },
  {
   "cell_type": "code",
   "execution_count": 48,
   "metadata": {},
   "outputs": [
    {
     "name": "stdout",
     "output_type": "stream",
     "text": [
      "Curr Params: max_df = 0.85 min_df = 0.01\n",
      "Curr Params: max_df = 0.85 min_df = 0.02\n",
      "Curr Params: max_df = 0.85 min_df = 0.03\n",
      "Curr Params: max_df = 0.9 min_df = 0.01\n",
      "Curr Params: max_df = 0.9 min_df = 0.02\n",
      "Curr Params: max_df = 0.9 min_df = 0.03\n",
      "Curr Params: max_df = 0.95 min_df = 0.01\n",
      "Curr Params: max_df = 0.95 min_df = 0.02\n",
      "Curr Params: max_df = 0.95 min_df = 0.03\n"
     ]
    }
   ],
   "source": [
    "\n",
    "\n",
    "\n",
    "#Do grid search \n",
    "kf = KFold(n_splits = 5)\n",
    "X = train_data['sentence']\n",
    "Y = train_data['label']\n",
    "max_df_ranges = [0.85, 0.9, 0.95] \n",
    "min_df_ranges = [0.01, 0.02, 0.03]\n",
    "\n",
    "best_params = {}\n",
    "best_results = {} \n",
    "curr_best_f1 = float('-inf')\n",
    "\n",
    "for max_df in max_df_ranges:\n",
    "    for min_df in min_df_ranges:\n",
    "        f1_scores = []\n",
    "        recall_scores = []\n",
    "        accuracy_scores = []\n",
    "        precision_scores = []\n",
    "        print(f\"Curr Params: max_df = {max_df} min_df = {min_df}\")\n",
    "        for train_index, test_index in kf.split(X):\n",
    "            X_train, X_test = X[train_index], X[test_index]\n",
    "            Y_train, Y_test = Y[train_index], Y[test_index]\n",
    "\n",
    "            tfidf_vectorizer = TfidfVectorizer(max_df = max_df, min_df = min_df, ngram_range = (1,2))\n",
    "            tfidf_vectorizer.fit(X_train)\n",
    "            X_train_vectorized = tfidf_vectorizer.transform(X_train)\n",
    "            X_test_vectorized = tfidf_vectorizer.transform(X_test)\n",
    "            clf = GaussianNB()\n",
    "            clf.fit(X_train_vectorized.toarray(), Y_train)\n",
    "            Y_pred = clf.predict(X_test_vectorized.toarray())\n",
    "        \n",
    "            f1_scores.append(f1_score(Y_test, Y_pred))\n",
    "            recall_scores.append(recall_score(Y_test, Y_pred))\n",
    "            precision_scores.append(precision_score(Y_test, Y_pred))\n",
    "            accuracy_scores.append(accuracy_score(Y_test, Y_pred))\n",
    "            \n",
    "            mean_f1 = sum(f1_scores)/5\n",
    "            if mean_f1 > curr_best_f1:\n",
    "                curr_best_f1 = mean_f1\n",
    "                best_params['max_df'] = max_df\n",
    "                best_params['min_df'] = min_df\n",
    "                best_results['f1'] = sum(f1_scores)/5\n",
    "                best_results['precision'] = sum(precision_scores)/5\n",
    "                best_results['recall'] = sum(recall_scores)/5\n",
    "                best_results['accuracy'] = sum(accuracy_scores)/5\n"
   ]
  },
  {
   "cell_type": "code",
   "execution_count": 49,
   "metadata": {},
   "outputs": [
    {
     "data": {
      "text/plain": [
       "{'f1': 0.5517392837153243,\n",
       " 'precision': 0.45120650612465096,\n",
       " 'recall': 0.7792463079497491,\n",
       " 'accuracy': 0.736}"
      ]
     },
     "execution_count": 49,
     "metadata": {},
     "output_type": "execute_result"
    }
   ],
   "source": [
    "best_results"
   ]
  },
  {
   "cell_type": "code",
   "execution_count": 50,
   "metadata": {},
   "outputs": [
    {
     "data": {
      "text/plain": [
       "{'max_df': 0.85, 'min_df': 0.03}"
      ]
     },
     "execution_count": 50,
     "metadata": {},
     "output_type": "execute_result"
    }
   ],
   "source": [
    "best_params"
   ]
  },
  {
   "cell_type": "code",
   "execution_count": 51,
   "metadata": {},
   "outputs": [
    {
     "data": {
      "text/html": [
       "<style>#sk-container-id-5 {color: black;background-color: white;}#sk-container-id-5 pre{padding: 0;}#sk-container-id-5 div.sk-toggleable {background-color: white;}#sk-container-id-5 label.sk-toggleable__label {cursor: pointer;display: block;width: 100%;margin-bottom: 0;padding: 0.3em;box-sizing: border-box;text-align: center;}#sk-container-id-5 label.sk-toggleable__label-arrow:before {content: \"▸\";float: left;margin-right: 0.25em;color: #696969;}#sk-container-id-5 label.sk-toggleable__label-arrow:hover:before {color: black;}#sk-container-id-5 div.sk-estimator:hover label.sk-toggleable__label-arrow:before {color: black;}#sk-container-id-5 div.sk-toggleable__content {max-height: 0;max-width: 0;overflow: hidden;text-align: left;background-color: #f0f8ff;}#sk-container-id-5 div.sk-toggleable__content pre {margin: 0.2em;color: black;border-radius: 0.25em;background-color: #f0f8ff;}#sk-container-id-5 input.sk-toggleable__control:checked~div.sk-toggleable__content {max-height: 200px;max-width: 100%;overflow: auto;}#sk-container-id-5 input.sk-toggleable__control:checked~label.sk-toggleable__label-arrow:before {content: \"▾\";}#sk-container-id-5 div.sk-estimator input.sk-toggleable__control:checked~label.sk-toggleable__label {background-color: #d4ebff;}#sk-container-id-5 div.sk-label input.sk-toggleable__control:checked~label.sk-toggleable__label {background-color: #d4ebff;}#sk-container-id-5 input.sk-hidden--visually {border: 0;clip: rect(1px 1px 1px 1px);clip: rect(1px, 1px, 1px, 1px);height: 1px;margin: -1px;overflow: hidden;padding: 0;position: absolute;width: 1px;}#sk-container-id-5 div.sk-estimator {font-family: monospace;background-color: #f0f8ff;border: 1px dotted black;border-radius: 0.25em;box-sizing: border-box;margin-bottom: 0.5em;}#sk-container-id-5 div.sk-estimator:hover {background-color: #d4ebff;}#sk-container-id-5 div.sk-parallel-item::after {content: \"\";width: 100%;border-bottom: 1px solid gray;flex-grow: 1;}#sk-container-id-5 div.sk-label:hover label.sk-toggleable__label {background-color: #d4ebff;}#sk-container-id-5 div.sk-serial::before {content: \"\";position: absolute;border-left: 1px solid gray;box-sizing: border-box;top: 0;bottom: 0;left: 50%;z-index: 0;}#sk-container-id-5 div.sk-serial {display: flex;flex-direction: column;align-items: center;background-color: white;padding-right: 0.2em;padding-left: 0.2em;position: relative;}#sk-container-id-5 div.sk-item {position: relative;z-index: 1;}#sk-container-id-5 div.sk-parallel {display: flex;align-items: stretch;justify-content: center;background-color: white;position: relative;}#sk-container-id-5 div.sk-item::before, #sk-container-id-5 div.sk-parallel-item::before {content: \"\";position: absolute;border-left: 1px solid gray;box-sizing: border-box;top: 0;bottom: 0;left: 50%;z-index: -1;}#sk-container-id-5 div.sk-parallel-item {display: flex;flex-direction: column;z-index: 1;position: relative;background-color: white;}#sk-container-id-5 div.sk-parallel-item:first-child::after {align-self: flex-end;width: 50%;}#sk-container-id-5 div.sk-parallel-item:last-child::after {align-self: flex-start;width: 50%;}#sk-container-id-5 div.sk-parallel-item:only-child::after {width: 0;}#sk-container-id-5 div.sk-dashed-wrapped {border: 1px dashed gray;margin: 0 0.4em 0.5em 0.4em;box-sizing: border-box;padding-bottom: 0.4em;background-color: white;}#sk-container-id-5 div.sk-label label {font-family: monospace;font-weight: bold;display: inline-block;line-height: 1.2em;}#sk-container-id-5 div.sk-label-container {text-align: center;}#sk-container-id-5 div.sk-container {/* jupyter's `normalize.less` sets `[hidden] { display: none; }` but bootstrap.min.css set `[hidden] { display: none !important; }` so we also need the `!important` here to be able to override the default hidden behavior on the sphinx rendered scikit-learn.org. See: https://github.com/scikit-learn/scikit-learn/issues/21755 */display: inline-block !important;position: relative;}#sk-container-id-5 div.sk-text-repr-fallback {display: none;}</style><div id=\"sk-container-id-5\" class=\"sk-top-container\"><div class=\"sk-text-repr-fallback\"><pre>GaussianNB()</pre><b>In a Jupyter environment, please rerun this cell to show the HTML representation or trust the notebook. <br />On GitHub, the HTML representation is unable to render, please try loading this page with nbviewer.org.</b></div><div class=\"sk-container\" hidden><div class=\"sk-item\"><div class=\"sk-estimator sk-toggleable\"><input class=\"sk-toggleable__control sk-hidden--visually\" id=\"sk-estimator-id-5\" type=\"checkbox\" checked><label for=\"sk-estimator-id-5\" class=\"sk-toggleable__label sk-toggleable__label-arrow\">GaussianNB</label><div class=\"sk-toggleable__content\"><pre>GaussianNB()</pre></div></div></div></div></div>"
      ],
      "text/plain": [
       "GaussianNB()"
      ]
     },
     "execution_count": 51,
     "metadata": {},
     "output_type": "execute_result"
    }
   ],
   "source": [
    "clf = GaussianNB()\n",
    "tfidf_vectorizer = TfidfVectorizer(max_df = best_params['max_df'], min_df = best_params['min_df'], ngram_range = (1,2))\n",
    "\n",
    "X_train = train_data['sentence']\n",
    "Y_train = train_data['label']\n",
    "\n",
    "X_train_vectorized = tfidf_vectorizer.fit_transform(X_train)\n",
    "clf.fit(X_train_vectorized.toarray(), Y_train)"
   ]
  },
  {
   "cell_type": "code",
   "execution_count": 52,
   "metadata": {},
   "outputs": [
    {
     "name": "stdout",
     "output_type": "stream",
     "text": [
      "F1 Score: 0.4011627906976744\n",
      "Recall Score: 0.7931034482758621\n",
      "Precision Score: 0.26848249027237353\n",
      "Accuracy Score: 0.7527010804321729\n"
     ]
    }
   ],
   "source": [
    "X_test = eval_data['sentence']\n",
    "Y_test = eval_data['label']\n",
    "\n",
    "X_test_vectorized = tfidf_vectorizer.transform(X_test)\n",
    "Y_pred = clf.predict(X_test_vectorized.toarray())\n",
    "\n",
    "print(f\"F1 Score: {f1_score(Y_test, Y_pred)}\")\n",
    "print(f\"Recall Score: {recall_score(Y_test, Y_pred)}\")\n",
    "print(f\"Precision Score: {precision_score(Y_test, Y_pred)}\")\n",
    "print(f\"Accuracy Score: {accuracy_score(Y_test, Y_pred)}\")"
   ]
  },
  {
   "cell_type": "code",
   "execution_count": 54,
   "metadata": {},
   "outputs": [
    {
     "name": "stdout",
     "output_type": "stream",
     "text": [
      "558 188 18 69\n"
     ]
    },
    {
     "data": {
      "text/plain": [
       "array([[558, 188],\n",
       "       [ 18,  69]], dtype=int64)"
      ]
     },
     "metadata": {},
     "output_type": "display_data"
    }
   ],
   "source": [
    "tn, fp, fn, tp = confusion_matrix(Y_test, Y_pred).ravel()\n",
    "print(tn, fp, fn, tp)\n",
    "display(confusion_matrix(Y_test, Y_pred))"
   ]
  },
  {
   "cell_type": "markdown",
   "metadata": {},
   "source": [
    "### Multinomial Naive Bayes"
   ]
  },
  {
   "cell_type": "code",
   "execution_count": 8,
   "metadata": {},
   "outputs": [
    {
     "name": "stdout",
     "output_type": "stream",
     "text": [
      "Curr Params: max_df = 0.85 min_df = 0.01\n",
      "Curr Params: max_df = 0.85 min_df = 0.02\n",
      "Curr Params: max_df = 0.85 min_df = 0.03\n",
      "Curr Params: max_df = 0.9 min_df = 0.01\n",
      "Curr Params: max_df = 0.9 min_df = 0.02\n",
      "Curr Params: max_df = 0.9 min_df = 0.03\n",
      "Curr Params: max_df = 0.95 min_df = 0.01\n",
      "Curr Params: max_df = 0.95 min_df = 0.02\n",
      "Curr Params: max_df = 0.95 min_df = 0.03\n"
     ]
    }
   ],
   "source": [
    "#Do grid search \n",
    "kf = KFold(n_splits = 5)\n",
    "X = train_data['sentence']\n",
    "Y = train_data['label']\n",
    "max_df_ranges = [0.85, 0.9, 0.95] \n",
    "min_df_ranges = [0.01, 0.02, 0.03]\n",
    "\n",
    "best_params = {}\n",
    "best_results = {} \n",
    "curr_best_f1 = float('-inf')\n",
    "\n",
    "for max_df in max_df_ranges:\n",
    "    for min_df in min_df_ranges:\n",
    "        f1_scores = []\n",
    "        recall_scores = []\n",
    "        accuracy_scores = []\n",
    "        precision_scores = []\n",
    "        print(f\"Curr Params: max_df = {max_df} min_df = {min_df}\")\n",
    "        for train_index, test_index in kf.split(X):\n",
    "            X_train, X_test = X[train_index], X[test_index]\n",
    "            Y_train, Y_test = Y[train_index], Y[test_index]\n",
    "\n",
    "            tfidf_vectorizer = CountVectorizer(max_df = max_df, min_df = min_df, ngram_range = (1,2))\n",
    "            tfidf_vectorizer.fit(X_train)\n",
    "            X_train_vectorized = tfidf_vectorizer.transform(X_train)\n",
    "            X_test_vectorized = tfidf_vectorizer.transform(X_test)\n",
    "            clf = MultinomialNB()\n",
    "            clf.fit(X_train_vectorized.toarray(), Y_train)\n",
    "            Y_pred = clf.predict(X_test_vectorized.toarray())\n",
    "        \n",
    "            f1_scores.append(f1_score(Y_test, Y_pred))\n",
    "            recall_scores.append(recall_score(Y_test, Y_pred))\n",
    "            precision_scores.append(precision_score(Y_test, Y_pred))\n",
    "            accuracy_scores.append(accuracy_score(Y_test, Y_pred))\n",
    "            \n",
    "            mean_f1 = sum(f1_scores)/5\n",
    "            if mean_f1 > curr_best_f1:\n",
    "                curr_best_f1 = mean_f1\n",
    "                best_params['max_df'] = max_df\n",
    "                best_params['min_df'] = min_df\n",
    "                best_results['f1'] = sum(f1_scores)/5\n",
    "                best_results['precision'] = sum(precision_scores)/5\n",
    "                best_results['recall'] = sum(recall_scores)/5\n",
    "                best_results['accuracy'] = sum(accuracy_scores)/5\n"
   ]
  },
  {
   "cell_type": "code",
   "execution_count": 9,
   "metadata": {},
   "outputs": [
    {
     "data": {
      "text/plain": [
       "{'f1': 0.633615973416623,\n",
       " 'precision': 0.6482982702352655,\n",
       " 'recall': 0.6423444814614505,\n",
       " 'accuracy': 0.8355294117647059}"
      ]
     },
     "execution_count": 9,
     "metadata": {},
     "output_type": "execute_result"
    }
   ],
   "source": [
    "best_results"
   ]
  },
  {
   "cell_type": "code",
   "execution_count": 10,
   "metadata": {},
   "outputs": [
    {
     "data": {
      "text/plain": [
       "{'max_df': 0.85, 'min_df': 0.01}"
      ]
     },
     "execution_count": 10,
     "metadata": {},
     "output_type": "execute_result"
    }
   ],
   "source": [
    "best_params"
   ]
  },
  {
   "cell_type": "code",
   "execution_count": 14,
   "metadata": {},
   "outputs": [
    {
     "data": {
      "text/html": [
       "<style>#sk-container-id-2 {color: black;background-color: white;}#sk-container-id-2 pre{padding: 0;}#sk-container-id-2 div.sk-toggleable {background-color: white;}#sk-container-id-2 label.sk-toggleable__label {cursor: pointer;display: block;width: 100%;margin-bottom: 0;padding: 0.3em;box-sizing: border-box;text-align: center;}#sk-container-id-2 label.sk-toggleable__label-arrow:before {content: \"▸\";float: left;margin-right: 0.25em;color: #696969;}#sk-container-id-2 label.sk-toggleable__label-arrow:hover:before {color: black;}#sk-container-id-2 div.sk-estimator:hover label.sk-toggleable__label-arrow:before {color: black;}#sk-container-id-2 div.sk-toggleable__content {max-height: 0;max-width: 0;overflow: hidden;text-align: left;background-color: #f0f8ff;}#sk-container-id-2 div.sk-toggleable__content pre {margin: 0.2em;color: black;border-radius: 0.25em;background-color: #f0f8ff;}#sk-container-id-2 input.sk-toggleable__control:checked~div.sk-toggleable__content {max-height: 200px;max-width: 100%;overflow: auto;}#sk-container-id-2 input.sk-toggleable__control:checked~label.sk-toggleable__label-arrow:before {content: \"▾\";}#sk-container-id-2 div.sk-estimator input.sk-toggleable__control:checked~label.sk-toggleable__label {background-color: #d4ebff;}#sk-container-id-2 div.sk-label input.sk-toggleable__control:checked~label.sk-toggleable__label {background-color: #d4ebff;}#sk-container-id-2 input.sk-hidden--visually {border: 0;clip: rect(1px 1px 1px 1px);clip: rect(1px, 1px, 1px, 1px);height: 1px;margin: -1px;overflow: hidden;padding: 0;position: absolute;width: 1px;}#sk-container-id-2 div.sk-estimator {font-family: monospace;background-color: #f0f8ff;border: 1px dotted black;border-radius: 0.25em;box-sizing: border-box;margin-bottom: 0.5em;}#sk-container-id-2 div.sk-estimator:hover {background-color: #d4ebff;}#sk-container-id-2 div.sk-parallel-item::after {content: \"\";width: 100%;border-bottom: 1px solid gray;flex-grow: 1;}#sk-container-id-2 div.sk-label:hover label.sk-toggleable__label {background-color: #d4ebff;}#sk-container-id-2 div.sk-serial::before {content: \"\";position: absolute;border-left: 1px solid gray;box-sizing: border-box;top: 0;bottom: 0;left: 50%;z-index: 0;}#sk-container-id-2 div.sk-serial {display: flex;flex-direction: column;align-items: center;background-color: white;padding-right: 0.2em;padding-left: 0.2em;position: relative;}#sk-container-id-2 div.sk-item {position: relative;z-index: 1;}#sk-container-id-2 div.sk-parallel {display: flex;align-items: stretch;justify-content: center;background-color: white;position: relative;}#sk-container-id-2 div.sk-item::before, #sk-container-id-2 div.sk-parallel-item::before {content: \"\";position: absolute;border-left: 1px solid gray;box-sizing: border-box;top: 0;bottom: 0;left: 50%;z-index: -1;}#sk-container-id-2 div.sk-parallel-item {display: flex;flex-direction: column;z-index: 1;position: relative;background-color: white;}#sk-container-id-2 div.sk-parallel-item:first-child::after {align-self: flex-end;width: 50%;}#sk-container-id-2 div.sk-parallel-item:last-child::after {align-self: flex-start;width: 50%;}#sk-container-id-2 div.sk-parallel-item:only-child::after {width: 0;}#sk-container-id-2 div.sk-dashed-wrapped {border: 1px dashed gray;margin: 0 0.4em 0.5em 0.4em;box-sizing: border-box;padding-bottom: 0.4em;background-color: white;}#sk-container-id-2 div.sk-label label {font-family: monospace;font-weight: bold;display: inline-block;line-height: 1.2em;}#sk-container-id-2 div.sk-label-container {text-align: center;}#sk-container-id-2 div.sk-container {/* jupyter's `normalize.less` sets `[hidden] { display: none; }` but bootstrap.min.css set `[hidden] { display: none !important; }` so we also need the `!important` here to be able to override the default hidden behavior on the sphinx rendered scikit-learn.org. See: https://github.com/scikit-learn/scikit-learn/issues/21755 */display: inline-block !important;position: relative;}#sk-container-id-2 div.sk-text-repr-fallback {display: none;}</style><div id=\"sk-container-id-2\" class=\"sk-top-container\"><div class=\"sk-text-repr-fallback\"><pre>MultinomialNB()</pre><b>In a Jupyter environment, please rerun this cell to show the HTML representation or trust the notebook. <br />On GitHub, the HTML representation is unable to render, please try loading this page with nbviewer.org.</b></div><div class=\"sk-container\" hidden><div class=\"sk-item\"><div class=\"sk-estimator sk-toggleable\"><input class=\"sk-toggleable__control sk-hidden--visually\" id=\"sk-estimator-id-2\" type=\"checkbox\" checked><label for=\"sk-estimator-id-2\" class=\"sk-toggleable__label sk-toggleable__label-arrow\">MultinomialNB</label><div class=\"sk-toggleable__content\"><pre>MultinomialNB()</pre></div></div></div></div></div>"
      ],
      "text/plain": [
       "MultinomialNB()"
      ]
     },
     "execution_count": 14,
     "metadata": {},
     "output_type": "execute_result"
    }
   ],
   "source": [
    "clf = MultinomialNB()\n",
    "tfidf_vectorizer = CountVectorizer(max_df = best_params['max_df'], min_df = best_params['min_df'], ngram_range = (1,2))\n",
    "\n",
    "X_train = train_data['sentence']\n",
    "Y_train = train_data['label']\n",
    "\n",
    "X_train_vectorized = tfidf_vectorizer.fit_transform(X_train)\n",
    "clf.fit(X_train_vectorized.toarray(), Y_train)"
   ]
  },
  {
   "cell_type": "code",
   "execution_count": 15,
   "metadata": {},
   "outputs": [
    {
     "name": "stdout",
     "output_type": "stream",
     "text": [
      "F1 Score: 0.5714285714285715\n",
      "Recall Score: 0.6206896551724138\n",
      "Precision Score: 0.5294117647058824\n",
      "Accuracy Score: 0.9027611044417767\n"
     ]
    }
   ],
   "source": [
    "X_test = eval_data['sentence']\n",
    "Y_test = eval_data['label']\n",
    "\n",
    "X_test_vectorized = tfidf_vectorizer.transform(X_test)\n",
    "Y_pred = clf.predict(X_test_vectorized.toarray())\n",
    "\n",
    "print(f\"F1 Score: {f1_score(Y_test, Y_pred)}\")\n",
    "print(f\"Recall Score: {recall_score(Y_test, Y_pred)}\")\n",
    "print(f\"Precision Score: {precision_score(Y_test, Y_pred)}\")\n",
    "print(f\"Accuracy Score: {accuracy_score(Y_test, Y_pred)}\")"
   ]
  },
  {
   "cell_type": "code",
   "execution_count": 16,
   "metadata": {},
   "outputs": [
    {
     "name": "stdout",
     "output_type": "stream",
     "text": [
      "698 48 33 54\n"
     ]
    },
    {
     "data": {
      "text/plain": [
       "array([[698,  48],\n",
       "       [ 33,  54]], dtype=int64)"
      ]
     },
     "metadata": {},
     "output_type": "display_data"
    }
   ],
   "source": [
    "tn, fp, fn, tp = confusion_matrix(Y_test, Y_pred).ravel()\n",
    "print(tn, fp, fn, tp)\n",
    "display(confusion_matrix(Y_test, Y_pred))"
   ]
  },
  {
   "cell_type": "markdown",
   "metadata": {},
   "source": [
    "## Overview of SVM\n",
    "\n",
    "Support Vector Machines are an extension of Support Vector Classifiers, which are in turn an extension of Maximal margin classifiers. Maximal Margin Classifiers are a linear classifier for linearly separable classification problems. <br> \n",
    "\n",
    "In a Maximal Margin Classifier, we find a hyperplane/line (depending) on the dimension that can separate all the observations within the dataset into its respective classes. However, there can be an infinite number of such hyperplanes. Thus, the goal of the MMC is to maximise the margin, which is defined as the shortest distance between a point and the hyperplane. This becomes an optimization problem with the following objective function and constraints: <br>\n",
    "1. $Maximize M$ = $\\frac{1}{\\sum\\beta_{i}}$\n",
    "2. Subject to $\\sum\\beta_{i} = 1$ - Number of independent Variables \n",
    "3. and $y_{i}(\\beta_{0} + \\beta_{1}X_{i1} + ... + \\beta_{p}X_{ip}) \\geq 1$ <br>\n",
    "\n",
    "However, the problem with a MMC is that we are unable to handle cases where the data samples are linearly inseparable, and in the MMC is also highly sensitive to outliers. To handle misclassifications, we introduce a slack variable $C$, that allows the observations to violate the margins. The optimization then becomes: <br>\n",
    "\n",
    "1. $Maximize M$ = $\\frac{1}{\\sum\\beta_{i}}$\n",
    "2. Subject to $\\sum\\beta_{i} = 1$ - Number of independent Variables \n",
    "3. and $y_{i}(\\beta_{0} + \\beta_{1}X_{i1} + ... + \\beta_{p}X_{ip}) \\geq (1 - e)$ <br>\n",
    "4. and $\\sum e_{i} \\leq C$ \n",
    "5. where $e_{i} \\geq 0$\n",
    "\n",
    "If $e_{i} = 0$, the ith observation is on the correct side of the margin <br>\n",
    "If $e_{i} \\gt 0$, the ith observation is on the wrong side of the margin <br>\n",
    "If $e_{i} \\gt 1$, the ith observation is on the wrong side of the hyperplane <br>\n",
    "In this case, C is a hyperparameter that can be tuned using cross validation, and it measures the amount of violations of the margin. With a larger C, it allows for more slack, which creates a stronger regularization effect. However. This model is still a linear model with a linear decision boundary. <br>\n",
    "\n",
    "In order to create a non-linear decision boundary, we need to project the data samples into a higher dimension, then solve the same optimization problem. SVM uses the kernel trick, which represents the datapoints by their pairwise distances. A kernel function is a function that returns a modified dot product. This reduces the time complexity and computational cost required to do the transformation. This allows SVM to create a non-linear decision boundary.\n"
   ]
  },
  {
   "cell_type": "code",
   "execution_count": 17,
   "metadata": {},
   "outputs": [],
   "source": [
    "train_data = pd.read_csv('./Data/App_Training.csv')\n",
    "test_data = pd.read_csv('./Data/App_Test_Labeled.csv')\n",
    "eval_data = pd.read_csv('./Data/SubtaskA_EvaluationData_labeled.csv', header = None, encoding = 'latin1')\n",
    "eval_data.columns = ['id', 'sentence', 'label']\n",
    "\n",
    "train_data.drop(labels = ['0'], axis = 1, inplace = True)\n",
    "test_data.drop(labels = ['0'], axis = 1, inplace = True)\n",
    "\n",
    "train_data['sentence'] = train_data['sentence'].apply(lambda x: \" \".join([word.lower() for word in x.split()]))\n",
    "test_data['sentence'] = test_data['sentence'].apply(lambda x: \" \".join([word.lower() for word in x.split()]))\n",
    "eval_data['sentence'] = eval_data['sentence'].apply(lambda x: \" \".join([word.lower() for word in x.split()]))\n",
    "\n",
    "train_data['sentence'] = train_data['sentence'].apply(lambda x: x.translate(str.maketrans('','', string.punctuation)))\n",
    "test_data['sentence'] = test_data['sentence'].apply(lambda x: x.translate(str.maketrans('','', string.punctuation)))\n",
    "eval_data['sentence'] = eval_data['sentence'].apply(lambda x: x.translate(str.maketrans('','', string.punctuation)))"
   ]
  },
  {
   "cell_type": "code",
   "execution_count": 22,
   "metadata": {},
   "outputs": [],
   "source": [
    "from sklearn.svm import SVC\n",
    "from sklearn.manifold import TSNE"
   ]
  },
  {
   "cell_type": "code",
   "execution_count": 23,
   "metadata": {},
   "outputs": [
    {
     "data": {
      "text/html": [
       "<div>\n",
       "<style scoped>\n",
       "    .dataframe tbody tr th:only-of-type {\n",
       "        vertical-align: middle;\n",
       "    }\n",
       "\n",
       "    .dataframe tbody tr th {\n",
       "        vertical-align: top;\n",
       "    }\n",
       "\n",
       "    .dataframe thead th {\n",
       "        text-align: right;\n",
       "    }\n",
       "</style>\n",
       "<table border=\"1\" class=\"dataframe\">\n",
       "  <thead>\n",
       "    <tr style=\"text-align: right;\">\n",
       "      <th></th>\n",
       "      <th>id</th>\n",
       "      <th>sentence</th>\n",
       "      <th>label</th>\n",
       "    </tr>\n",
       "  </thead>\n",
       "  <tbody>\n",
       "    <tr>\n",
       "      <th>0</th>\n",
       "      <td>663_3</td>\n",
       "      <td>please enable removing language code from the ...</td>\n",
       "      <td>1</td>\n",
       "    </tr>\n",
       "    <tr>\n",
       "      <th>1</th>\n",
       "      <td>663_4</td>\n",
       "      <td>note in your csproj file there is a supportedc...</td>\n",
       "      <td>0</td>\n",
       "    </tr>\n",
       "    <tr>\n",
       "      <th>2</th>\n",
       "      <td>664_1</td>\n",
       "      <td>wich means the new version not fully replaced ...</td>\n",
       "      <td>0</td>\n",
       "    </tr>\n",
       "    <tr>\n",
       "      <th>3</th>\n",
       "      <td>664_2</td>\n",
       "      <td>some of my users will still receive the old xa...</td>\n",
       "      <td>0</td>\n",
       "    </tr>\n",
       "    <tr>\n",
       "      <th>4</th>\n",
       "      <td>664_3</td>\n",
       "      <td>the store randomly gives the old xap or the ne...</td>\n",
       "      <td>0</td>\n",
       "    </tr>\n",
       "  </tbody>\n",
       "</table>\n",
       "</div>"
      ],
      "text/plain": [
       "      id                                           sentence  label\n",
       "0  663_3  please enable removing language code from the ...      1\n",
       "1  663_4  note in your csproj file there is a supportedc...      0\n",
       "2  664_1  wich means the new version not fully replaced ...      0\n",
       "3  664_2  some of my users will still receive the old xa...      0\n",
       "4  664_3  the store randomly gives the old xap or the ne...      0"
      ]
     },
     "metadata": {},
     "output_type": "display_data"
    },
    {
     "data": {
      "text/html": [
       "<div>\n",
       "<style scoped>\n",
       "    .dataframe tbody tr th:only-of-type {\n",
       "        vertical-align: middle;\n",
       "    }\n",
       "\n",
       "    .dataframe tbody tr th {\n",
       "        vertical-align: top;\n",
       "    }\n",
       "\n",
       "    .dataframe thead th {\n",
       "        text-align: right;\n",
       "    }\n",
       "</style>\n",
       "<table border=\"1\" class=\"dataframe\">\n",
       "  <thead>\n",
       "    <tr style=\"text-align: right;\">\n",
       "      <th></th>\n",
       "      <th>id</th>\n",
       "      <th>sentence</th>\n",
       "      <th>label</th>\n",
       "    </tr>\n",
       "  </thead>\n",
       "  <tbody>\n",
       "    <tr>\n",
       "      <th>0</th>\n",
       "      <td>1310_1</td>\n",
       "      <td>i am not asking microsoft to gives permission ...</td>\n",
       "      <td>1</td>\n",
       "    </tr>\n",
       "    <tr>\n",
       "      <th>1</th>\n",
       "      <td>1312_1</td>\n",
       "      <td>somewhere between android and iphone</td>\n",
       "      <td>0</td>\n",
       "    </tr>\n",
       "    <tr>\n",
       "      <th>2</th>\n",
       "      <td>1313_1</td>\n",
       "      <td>and in the windows store you can flag the app ...</td>\n",
       "      <td>0</td>\n",
       "    </tr>\n",
       "    <tr>\n",
       "      <th>3</th>\n",
       "      <td>1313_2</td>\n",
       "      <td>many thanks sameh hi as we know there is a lot...</td>\n",
       "      <td>0</td>\n",
       "    </tr>\n",
       "    <tr>\n",
       "      <th>4</th>\n",
       "      <td>1313_3</td>\n",
       "      <td>the idea is that we can develop a regular app ...</td>\n",
       "      <td>1</td>\n",
       "    </tr>\n",
       "  </tbody>\n",
       "</table>\n",
       "</div>"
      ],
      "text/plain": [
       "       id                                           sentence  label\n",
       "0  1310_1  i am not asking microsoft to gives permission ...      1\n",
       "1  1312_1               somewhere between android and iphone      0\n",
       "2  1313_1  and in the windows store you can flag the app ...      0\n",
       "3  1313_2  many thanks sameh hi as we know there is a lot...      0\n",
       "4  1313_3  the idea is that we can develop a regular app ...      1"
      ]
     },
     "metadata": {},
     "output_type": "display_data"
    },
    {
     "data": {
      "text/html": [
       "<div>\n",
       "<style scoped>\n",
       "    .dataframe tbody tr th:only-of-type {\n",
       "        vertical-align: middle;\n",
       "    }\n",
       "\n",
       "    .dataframe tbody tr th {\n",
       "        vertical-align: top;\n",
       "    }\n",
       "\n",
       "    .dataframe thead th {\n",
       "        text-align: right;\n",
       "    }\n",
       "</style>\n",
       "<table border=\"1\" class=\"dataframe\">\n",
       "  <thead>\n",
       "    <tr style=\"text-align: right;\">\n",
       "      <th></th>\n",
       "      <th>id</th>\n",
       "      <th>sentence</th>\n",
       "      <th>label</th>\n",
       "    </tr>\n",
       "  </thead>\n",
       "  <tbody>\n",
       "    <tr>\n",
       "      <th>0</th>\n",
       "      <td>9566</td>\n",
       "      <td>this would enable live traffic aware apps</td>\n",
       "      <td>0</td>\n",
       "    </tr>\n",
       "    <tr>\n",
       "      <th>1</th>\n",
       "      <td>9569</td>\n",
       "      <td>please try other formatting like bold italics ...</td>\n",
       "      <td>1</td>\n",
       "    </tr>\n",
       "    <tr>\n",
       "      <th>2</th>\n",
       "      <td>9576</td>\n",
       "      <td>since computers were invented to save time i s...</td>\n",
       "      <td>1</td>\n",
       "    </tr>\n",
       "    <tr>\n",
       "      <th>3</th>\n",
       "      <td>9577</td>\n",
       "      <td>allow rearranging if the user wants to change ...</td>\n",
       "      <td>1</td>\n",
       "    </tr>\n",
       "    <tr>\n",
       "      <th>4</th>\n",
       "      <td>9579</td>\n",
       "      <td>add simd instructions for better use of arm ne...</td>\n",
       "      <td>1</td>\n",
       "    </tr>\n",
       "  </tbody>\n",
       "</table>\n",
       "</div>"
      ],
      "text/plain": [
       "     id                                           sentence  label\n",
       "0  9566          this would enable live traffic aware apps      0\n",
       "1  9569  please try other formatting like bold italics ...      1\n",
       "2  9576  since computers were invented to save time i s...      1\n",
       "3  9577  allow rearranging if the user wants to change ...      1\n",
       "4  9579  add simd instructions for better use of arm ne...      1"
      ]
     },
     "metadata": {},
     "output_type": "display_data"
    }
   ],
   "source": [
    "display(train_data.head())\n",
    "display(test_data.head())\n",
    "display(eval_data.head())"
   ]
  },
  {
   "cell_type": "code",
   "execution_count": 26,
   "metadata": {},
   "outputs": [
    {
     "name": "stdout",
     "output_type": "stream",
     "text": [
      "Curr Params: max_df = 0.85 min_df = 0.01 vectorizer = count\n",
      "Curr Params: max_df = 0.85 min_df = 0.01 vectorizer = tfidf\n",
      "Curr Params: max_df = 0.85 min_df = 0.02 vectorizer = count\n",
      "Curr Params: max_df = 0.85 min_df = 0.02 vectorizer = tfidf\n",
      "Curr Params: max_df = 0.85 min_df = 0.03 vectorizer = count\n",
      "Curr Params: max_df = 0.85 min_df = 0.03 vectorizer = tfidf\n",
      "Curr Params: max_df = 0.9 min_df = 0.01 vectorizer = count\n",
      "Curr Params: max_df = 0.9 min_df = 0.01 vectorizer = tfidf\n",
      "Curr Params: max_df = 0.9 min_df = 0.02 vectorizer = count\n",
      "Curr Params: max_df = 0.9 min_df = 0.02 vectorizer = tfidf\n",
      "Curr Params: max_df = 0.9 min_df = 0.03 vectorizer = count\n",
      "Curr Params: max_df = 0.9 min_df = 0.03 vectorizer = tfidf\n",
      "Curr Params: max_df = 0.95 min_df = 0.01 vectorizer = count\n",
      "Curr Params: max_df = 0.95 min_df = 0.01 vectorizer = tfidf\n",
      "Curr Params: max_df = 0.95 min_df = 0.02 vectorizer = count\n",
      "Curr Params: max_df = 0.95 min_df = 0.02 vectorizer = tfidf\n",
      "Curr Params: max_df = 0.95 min_df = 0.03 vectorizer = count\n",
      "Curr Params: max_df = 0.95 min_df = 0.03 vectorizer = tfidf\n"
     ]
    }
   ],
   "source": [
    "kf = KFold(n_splits = 5)\n",
    "X = train_data['sentence']\n",
    "Y = train_data['label']\n",
    "max_df_ranges = [0.85, 0.9, 0.95] \n",
    "min_df_ranges = [0.01, 0.02, 0.03]\n",
    "vectorizers = [\"count\", \"tfidf\"]\n",
    "\n",
    "best_params = {}\n",
    "best_results = {} \n",
    "curr_best_f1 = float('-inf')\n",
    "\n",
    "for max_df in max_df_ranges:\n",
    "    for min_df in min_df_ranges:\n",
    "        for vectorizer in vectorizers:\n",
    "            f1_scores = []\n",
    "            recall_scores = []\n",
    "            accuracy_scores = []\n",
    "            precision_scores = []\n",
    "            print(f\"Curr Params: max_df = {max_df} min_df = {min_df} vectorizer = {vectorizer}\")\n",
    "            for train_index, test_index in kf.split(X):\n",
    "                X_train, X_test = X[train_index], X[test_index]\n",
    "                Y_train, Y_test = Y[train_index], Y[test_index]\n",
    "\n",
    "                if vectorizer == \"count\":\n",
    "                    vectorizer = CountVectorizer(max_df = max_df, min_df = min_df, ngram_range = (1,2))\n",
    "                else:\n",
    "                    vectorizer = TfidfVectorizer(max_df = max_df, min_df = min_df, ngram_range = (1,2))\n",
    "\n",
    "                vectorizer.fit(X_train)\n",
    "                X_train_vectorized = vectorizer.transform(X_train)\n",
    "                X_test_vectorized = vectorizer.transform(X_test)\n",
    "                clf = SVC()\n",
    "                clf.fit(X_train_vectorized.toarray(), Y_train)\n",
    "                Y_pred = clf.predict(X_test_vectorized.toarray())\n",
    "\n",
    "                f1_scores.append(f1_score(Y_test, Y_pred))\n",
    "                recall_scores.append(recall_score(Y_test, Y_pred))\n",
    "                precision_scores.append(precision_score(Y_test, Y_pred))\n",
    "                accuracy_scores.append(accuracy_score(Y_test, Y_pred))\n",
    "\n",
    "                mean_f1 = sum(f1_scores)/5\n",
    "                if mean_f1 > curr_best_f1:\n",
    "                    curr_best_f1 = mean_f1\n",
    "                    best_params['max_df'] = max_df\n",
    "                    best_params['min_df'] = min_df\n",
    "                    best_params['vectorizer'] = vectorizer\n",
    "                    best_results['f1'] = sum(f1_scores)/5\n",
    "                    best_results['precision'] = sum(precision_scores)/5\n",
    "                    best_results['recall'] = sum(recall_scores)/5\n",
    "                    best_results['accuracy'] = sum(accuracy_scores)/5"
   ]
  },
  {
   "cell_type": "code",
   "execution_count": 27,
   "metadata": {},
   "outputs": [
    {
     "data": {
      "text/plain": [
       "{'f1': 0.6660824124911213,\n",
       " 'precision': 0.7628831200390808,\n",
       " 'recall': 0.6079750692771972,\n",
       " 'accuracy': 0.8556470588235294}"
      ]
     },
     "execution_count": 27,
     "metadata": {},
     "output_type": "execute_result"
    }
   ],
   "source": [
    "best_results"
   ]
  },
  {
   "cell_type": "code",
   "execution_count": 28,
   "metadata": {},
   "outputs": [
    {
     "data": {
      "text/plain": [
       "{'max_df': 0.85,\n",
       " 'min_df': 0.01,\n",
       " 'vectorizer': TfidfVectorizer(max_df=0.85, min_df=0.01, ngram_range=(1, 2))}"
      ]
     },
     "execution_count": 28,
     "metadata": {},
     "output_type": "execute_result"
    }
   ],
   "source": [
    "best_params"
   ]
  },
  {
   "cell_type": "code",
   "execution_count": 29,
   "metadata": {},
   "outputs": [
    {
     "data": {
      "text/html": [
       "<style>#sk-container-id-4 {color: black;background-color: white;}#sk-container-id-4 pre{padding: 0;}#sk-container-id-4 div.sk-toggleable {background-color: white;}#sk-container-id-4 label.sk-toggleable__label {cursor: pointer;display: block;width: 100%;margin-bottom: 0;padding: 0.3em;box-sizing: border-box;text-align: center;}#sk-container-id-4 label.sk-toggleable__label-arrow:before {content: \"▸\";float: left;margin-right: 0.25em;color: #696969;}#sk-container-id-4 label.sk-toggleable__label-arrow:hover:before {color: black;}#sk-container-id-4 div.sk-estimator:hover label.sk-toggleable__label-arrow:before {color: black;}#sk-container-id-4 div.sk-toggleable__content {max-height: 0;max-width: 0;overflow: hidden;text-align: left;background-color: #f0f8ff;}#sk-container-id-4 div.sk-toggleable__content pre {margin: 0.2em;color: black;border-radius: 0.25em;background-color: #f0f8ff;}#sk-container-id-4 input.sk-toggleable__control:checked~div.sk-toggleable__content {max-height: 200px;max-width: 100%;overflow: auto;}#sk-container-id-4 input.sk-toggleable__control:checked~label.sk-toggleable__label-arrow:before {content: \"▾\";}#sk-container-id-4 div.sk-estimator input.sk-toggleable__control:checked~label.sk-toggleable__label {background-color: #d4ebff;}#sk-container-id-4 div.sk-label input.sk-toggleable__control:checked~label.sk-toggleable__label {background-color: #d4ebff;}#sk-container-id-4 input.sk-hidden--visually {border: 0;clip: rect(1px 1px 1px 1px);clip: rect(1px, 1px, 1px, 1px);height: 1px;margin: -1px;overflow: hidden;padding: 0;position: absolute;width: 1px;}#sk-container-id-4 div.sk-estimator {font-family: monospace;background-color: #f0f8ff;border: 1px dotted black;border-radius: 0.25em;box-sizing: border-box;margin-bottom: 0.5em;}#sk-container-id-4 div.sk-estimator:hover {background-color: #d4ebff;}#sk-container-id-4 div.sk-parallel-item::after {content: \"\";width: 100%;border-bottom: 1px solid gray;flex-grow: 1;}#sk-container-id-4 div.sk-label:hover label.sk-toggleable__label {background-color: #d4ebff;}#sk-container-id-4 div.sk-serial::before {content: \"\";position: absolute;border-left: 1px solid gray;box-sizing: border-box;top: 0;bottom: 0;left: 50%;z-index: 0;}#sk-container-id-4 div.sk-serial {display: flex;flex-direction: column;align-items: center;background-color: white;padding-right: 0.2em;padding-left: 0.2em;position: relative;}#sk-container-id-4 div.sk-item {position: relative;z-index: 1;}#sk-container-id-4 div.sk-parallel {display: flex;align-items: stretch;justify-content: center;background-color: white;position: relative;}#sk-container-id-4 div.sk-item::before, #sk-container-id-4 div.sk-parallel-item::before {content: \"\";position: absolute;border-left: 1px solid gray;box-sizing: border-box;top: 0;bottom: 0;left: 50%;z-index: -1;}#sk-container-id-4 div.sk-parallel-item {display: flex;flex-direction: column;z-index: 1;position: relative;background-color: white;}#sk-container-id-4 div.sk-parallel-item:first-child::after {align-self: flex-end;width: 50%;}#sk-container-id-4 div.sk-parallel-item:last-child::after {align-self: flex-start;width: 50%;}#sk-container-id-4 div.sk-parallel-item:only-child::after {width: 0;}#sk-container-id-4 div.sk-dashed-wrapped {border: 1px dashed gray;margin: 0 0.4em 0.5em 0.4em;box-sizing: border-box;padding-bottom: 0.4em;background-color: white;}#sk-container-id-4 div.sk-label label {font-family: monospace;font-weight: bold;display: inline-block;line-height: 1.2em;}#sk-container-id-4 div.sk-label-container {text-align: center;}#sk-container-id-4 div.sk-container {/* jupyter's `normalize.less` sets `[hidden] { display: none; }` but bootstrap.min.css set `[hidden] { display: none !important; }` so we also need the `!important` here to be able to override the default hidden behavior on the sphinx rendered scikit-learn.org. See: https://github.com/scikit-learn/scikit-learn/issues/21755 */display: inline-block !important;position: relative;}#sk-container-id-4 div.sk-text-repr-fallback {display: none;}</style><div id=\"sk-container-id-4\" class=\"sk-top-container\"><div class=\"sk-text-repr-fallback\"><pre>SVC()</pre><b>In a Jupyter environment, please rerun this cell to show the HTML representation or trust the notebook. <br />On GitHub, the HTML representation is unable to render, please try loading this page with nbviewer.org.</b></div><div class=\"sk-container\" hidden><div class=\"sk-item\"><div class=\"sk-estimator sk-toggleable\"><input class=\"sk-toggleable__control sk-hidden--visually\" id=\"sk-estimator-id-4\" type=\"checkbox\" checked><label for=\"sk-estimator-id-4\" class=\"sk-toggleable__label sk-toggleable__label-arrow\">SVC</label><div class=\"sk-toggleable__content\"><pre>SVC()</pre></div></div></div></div></div>"
      ],
      "text/plain": [
       "SVC()"
      ]
     },
     "execution_count": 29,
     "metadata": {},
     "output_type": "execute_result"
    }
   ],
   "source": [
    "clf = SVC()\n",
    "tfidf_vectorizer = TfidfVectorizer(max_df = best_params['max_df'], min_df = best_params['min_df'], ngram_range = (1,2))\n",
    "\n",
    "X_train = train_data['sentence']\n",
    "Y_train = train_data['label']\n",
    "\n",
    "X_train_vectorized = tfidf_vectorizer.fit_transform(X_train)\n",
    "clf.fit(X_train_vectorized.toarray(), Y_train)"
   ]
  },
  {
   "cell_type": "code",
   "execution_count": 30,
   "metadata": {},
   "outputs": [
    {
     "name": "stdout",
     "output_type": "stream",
     "text": [
      "F1 Score: 0.5911949685534591\n",
      "Recall Score: 0.5402298850574713\n",
      "Precision Score: 0.6527777777777778\n",
      "Accuracy Score: 0.921968787515006\n"
     ]
    }
   ],
   "source": [
    "X_test = eval_data['sentence']\n",
    "Y_test = eval_data['label']\n",
    "\n",
    "X_test_vectorized = tfidf_vectorizer.transform(X_test)\n",
    "Y_pred = clf.predict(X_test_vectorized.toarray())\n",
    "\n",
    "print(f\"F1 Score: {f1_score(Y_test, Y_pred)}\")\n",
    "print(f\"Recall Score: {recall_score(Y_test, Y_pred)}\")\n",
    "print(f\"Precision Score: {precision_score(Y_test, Y_pred)}\")\n",
    "print(f\"Accuracy Score: {accuracy_score(Y_test, Y_pred)}\")"
   ]
  },
  {
   "cell_type": "code",
   "execution_count": 31,
   "metadata": {},
   "outputs": [
    {
     "name": "stdout",
     "output_type": "stream",
     "text": [
      "721 25 40 47\n"
     ]
    },
    {
     "data": {
      "text/plain": [
       "array([[721,  25],\n",
       "       [ 40,  47]], dtype=int64)"
      ]
     },
     "metadata": {},
     "output_type": "display_data"
    }
   ],
   "source": [
    "tn, fp, fn, tp = confusion_matrix(Y_test, Y_pred).ravel()\n",
    "print(tn, fp, fn, tp)\n",
    "display(confusion_matrix(Y_test, Y_pred))"
   ]
  },
  {
   "cell_type": "code",
   "execution_count": 61,
   "metadata": {},
   "outputs": [
    {
     "name": "stdout",
     "output_type": "stream",
     "text": [
      "Curr Params: C = 1 gammas = scale class_weights = balanced\n",
      "Curr Params: C = 1 gammas = scale class_weights = {0: 1, 1: 2}\n",
      "Curr Params: C = 1 gammas = scale class_weights = {0: 1, 1: 1.5}\n",
      "Curr Params: C = 1 gammas = scale class_weights = {0: 1, 1: 2.5}\n",
      "Curr Params: C = 1 gammas = 1 class_weights = balanced\n",
      "Curr Params: C = 1 gammas = 1 class_weights = {0: 1, 1: 2}\n",
      "Curr Params: C = 1 gammas = 1 class_weights = {0: 1, 1: 1.5}\n",
      "Curr Params: C = 1 gammas = 1 class_weights = {0: 1, 1: 2.5}\n",
      "Curr Params: C = 1 gammas = 2 class_weights = balanced\n",
      "Curr Params: C = 1 gammas = 2 class_weights = {0: 1, 1: 2}\n",
      "Curr Params: C = 1 gammas = 2 class_weights = {0: 1, 1: 1.5}\n",
      "Curr Params: C = 1 gammas = 2 class_weights = {0: 1, 1: 2.5}\n",
      "Curr Params: C = 2 gammas = scale class_weights = balanced\n",
      "Curr Params: C = 2 gammas = scale class_weights = {0: 1, 1: 2}\n",
      "Curr Params: C = 2 gammas = scale class_weights = {0: 1, 1: 1.5}\n",
      "Curr Params: C = 2 gammas = scale class_weights = {0: 1, 1: 2.5}\n",
      "Curr Params: C = 2 gammas = 1 class_weights = balanced\n",
      "Curr Params: C = 2 gammas = 1 class_weights = {0: 1, 1: 2}\n",
      "Curr Params: C = 2 gammas = 1 class_weights = {0: 1, 1: 1.5}\n",
      "Curr Params: C = 2 gammas = 1 class_weights = {0: 1, 1: 2.5}\n",
      "Curr Params: C = 2 gammas = 2 class_weights = balanced\n",
      "Curr Params: C = 2 gammas = 2 class_weights = {0: 1, 1: 2}\n",
      "Curr Params: C = 2 gammas = 2 class_weights = {0: 1, 1: 1.5}\n",
      "Curr Params: C = 2 gammas = 2 class_weights = {0: 1, 1: 2.5}\n",
      "Curr Params: C = 3 gammas = scale class_weights = balanced\n",
      "Curr Params: C = 3 gammas = scale class_weights = {0: 1, 1: 2}\n",
      "Curr Params: C = 3 gammas = scale class_weights = {0: 1, 1: 1.5}\n",
      "Curr Params: C = 3 gammas = scale class_weights = {0: 1, 1: 2.5}\n",
      "Curr Params: C = 3 gammas = 1 class_weights = balanced\n",
      "Curr Params: C = 3 gammas = 1 class_weights = {0: 1, 1: 2}\n",
      "Curr Params: C = 3 gammas = 1 class_weights = {0: 1, 1: 1.5}\n",
      "Curr Params: C = 3 gammas = 1 class_weights = {0: 1, 1: 2.5}\n",
      "Curr Params: C = 3 gammas = 2 class_weights = balanced\n",
      "Curr Params: C = 3 gammas = 2 class_weights = {0: 1, 1: 2}\n",
      "Curr Params: C = 3 gammas = 2 class_weights = {0: 1, 1: 1.5}\n",
      "Curr Params: C = 3 gammas = 2 class_weights = {0: 1, 1: 2.5}\n"
     ]
    }
   ],
   "source": [
    "kf = KFold(n_splits = 5)\n",
    "X = train_data['sentence']\n",
    "Y = train_data['label']tslack\n",
    "\n",
    "class_weights = ['balanced', {0:1, 1:2}, {0:1, 1:1.5}, {0:1,1:2.5}]\n",
    "gammas = ['scale',1,2,]\n",
    "Cs = [1,2,3]\n",
    "\n",
    "\n",
    "best_params = {}\n",
    "best_results = {} \n",
    "curr_best_f1 = float('-inf')\n",
    "\n",
    "for C in Cs:\n",
    "    for gamma in gammas:\n",
    "        for class_weight in class_weights:\n",
    "            f1_scores = []\n",
    "            recall_scores = []\n",
    "            accuracy_scores = []\n",
    "            precision_scores = []\n",
    "            print(f\"Curr Params: C = {C} gammas = {gamma} class_weights = {class_weight}\")\n",
    "            for train_index, test_index in kf.split(X):\n",
    "                X_train, X_test = X[train_index], X[test_index]\n",
    "                Y_train, Y_test = Y[train_index], Y[test_index]\n",
    "\n",
    "                vectorizer = TfidfVectorizer(max_df = 0.85, min_df = 0.01, ngram_range = (1,2))\n",
    "                vectorizer.fit(X_train)\n",
    "                X_train_vectorized = vectorizer.transform(X_train)\n",
    "                X_test_vectorized = vectorizer.transform(X_test)\n",
    "                clf = SVC(class_weight = class_weight, C = C, gamma = gamma)\n",
    "                clf.fit(X_train_vectorized.toarray(), Y_train)\n",
    "                Y_pred = clf.predict(X_test_vectorized.toarray())\n",
    "\n",
    "                f1_scores.append(f1_score(Y_test, Y_pred))\n",
    "                recall_scores.append(recall_score(Y_test, Y_pred))\n",
    "                precision_scores.append(precision_score(Y_test, Y_pred))\n",
    "                accuracy_scores.append(accuracy_score(Y_test, Y_pred))\n",
    "\n",
    "                mean_f1 = sum(f1_scores)/5\n",
    "                if mean_f1 > curr_best_f1:\n",
    "                    curr_best_f1 = mean_f1\n",
    "                    best_params['weight'] = class_weight\n",
    "                    best_params['gamma'] = gamma\n",
    "                    best_params['C'] = C\n",
    "                    best_results['f1'] = sum(f1_scores)/5\n",
    "                    best_results['precision'] = sum(precision_scores)/5\n",
    "                    best_results['recall'] = sum(recall_scores)/5\n",
    "                    best_results['accuracy'] = sum(accuracy_scores)/5"
   ]
  },
  {
   "cell_type": "code",
   "execution_count": 62,
   "metadata": {},
   "outputs": [
    {
     "data": {
      "text/plain": [
       "{'f1': 0.6939517284883424,\n",
       " 'precision': 0.6579642056460119,\n",
       " 'recall': 0.7577369423379058,\n",
       " 'accuracy': 0.8528235294117648}"
      ]
     },
     "execution_count": 62,
     "metadata": {},
     "output_type": "execute_result"
    }
   ],
   "source": [
    "best_results"
   ]
  },
  {
   "cell_type": "code",
   "execution_count": 66,
   "metadata": {},
   "outputs": [
    {
     "data": {
      "text/plain": [
       "{'weight': 'balanced', 'gamma': 1, 'C': 1}"
      ]
     },
     "execution_count": 66,
     "metadata": {},
     "output_type": "execute_result"
    }
   ],
   "source": [
    "best_params"
   ]
  },
  {
   "cell_type": "code",
   "execution_count": 72,
   "metadata": {},
   "outputs": [
    {
     "name": "stdout",
     "output_type": "stream",
     "text": [
      "F1 Score: 0.5650224215246638\n",
      "Recall Score: 0.7241379310344828\n",
      "Precision Score: 0.4632352941176471\n",
      "Accuracy Score: 0.8835534213685474\n"
     ]
    }
   ],
   "source": [
    "clf = SVC(class_weight = best_params['weight'], C =  best_params['C'], gamma = best_params['gamma'])\n",
    "tfidf_vectorizer = TfidfVectorizer(max_df = 0.85, min_df = 0.01, ngram_range = (1,2))\n",
    "\n",
    "X_train = train_data['sentence']\n",
    "Y_train = train_data['label']\n",
    "\n",
    "X_train_vectorized = tfidf_vectorizer.fit_transform(X_train)\n",
    "clf.fit(X_train_vectorized.toarray(), Y_train)\n",
    "\n",
    "X_test = eval_data['sentence']\n",
    "Y_test = eval_data['label']\n",
    "\n",
    "X_test_vectorized = tfidf_vectorizer.transform(X_test)\n",
    "Y_pred = clf.predict(X_test_vectorized.toarray())\n",
    "\n",
    "print(f\"F1 Score: {f1_score(Y_test, Y_pred)}\")\n",
    "print(f\"Recall Score: {recall_score(Y_test, Y_pred)}\")\n",
    "print(f\"Precision Score: {precision_score(Y_test, Y_pred)}\")\n",
    "print(f\"Accuracy Score: {accuracy_score(Y_test, Y_pred)}\")"
   ]
  },
  {
   "cell_type": "code",
   "execution_count": 73,
   "metadata": {},
   "outputs": [
    {
     "name": "stdout",
     "output_type": "stream",
     "text": [
      "673 73 24 63\n"
     ]
    },
    {
     "data": {
      "text/plain": [
       "array([[673,  73],\n",
       "       [ 24,  63]], dtype=int64)"
      ]
     },
     "metadata": {},
     "output_type": "display_data"
    }
   ],
   "source": [
    "tn, fp, fn, tp = confusion_matrix(Y_test, Y_pred).ravel()\n",
    "print(tn, fp, fn, tp)\n",
    "display(confusion_matrix(Y_test, Y_pred))"
   ]
  },
  {
   "cell_type": "code",
   "execution_count": 74,
   "metadata": {},
   "outputs": [
    {
     "name": "stdout",
     "output_type": "stream",
     "text": [
      "degree = 2 class weight = balanced\n",
      "degree = 2 class weight = None\n",
      "degree = 3 class weight = balanced\n",
      "degree = 3 class weight = None\n",
      "degree = 4 class weight = balanced\n",
      "degree = 4 class weight = None\n"
     ]
    }
   ],
   "source": [
    "kf = KFold(n_splits = 5)\n",
    "X = train_data['sentence']\n",
    "Y = train_data['label']\n",
    "\n",
    "class_weights = ['balanced', None]\n",
    "degrees = [2,3,4]\n",
    "\n",
    "\n",
    "best_params = {}\n",
    "best_results = {} \n",
    "curr_best_f1 = float('-inf')\n",
    "\n",
    "for deg in degrees:\n",
    "    for class_weight in class_weights:\n",
    "        f1_scores = []\n",
    "        recall_scores = []\n",
    "        accuracy_scores = []\n",
    "        precision_scores = []\n",
    "        print(f\"degree = {deg} class weight = {class_weight}\")\n",
    "        for train_index, test_index in kf.split(X):\n",
    "            X_train, X_test = X[train_index], X[test_index]\n",
    "            Y_train, Y_test = Y[train_index], Y[test_index]\n",
    "\n",
    "            vectorizer = TfidfVectorizer(max_df = 0.85, min_df = 0.01, ngram_range = (1,2))\n",
    "            vectorizer.fit(X_train)\n",
    "            X_train_vectorized = vectorizer.transform(X_train)\n",
    "            X_test_vectorized = vectorizer.transform(X_test)\n",
    "            clf = SVC(kernel = 'poly', class_weight = class_weight, degree = deg)\n",
    "            clf.fit(X_train_vectorized.toarray(), Y_train)\n",
    "            Y_pred = clf.predict(X_test_vectorized.toarray())\n",
    "\n",
    "            f1_scores.append(f1_score(Y_test, Y_pred))\n",
    "            recall_scores.append(recall_score(Y_test, Y_pred))\n",
    "            precision_scores.append(precision_score(Y_test, Y_pred))\n",
    "            accuracy_scores.append(accuracy_score(Y_test, Y_pred))\n",
    "\n",
    "            mean_f1 = sum(f1_scores)/5\n",
    "            if mean_f1 > curr_best_f1:\n",
    "                curr_best_f1 = mean_f1\n",
    "                best_params['weight'] = class_weight\n",
    "                best_params['degree'] = deg\n",
    "                best_results['f1'] = sum(f1_scores)/5\n",
    "                best_results['precision'] = sum(precision_scores)/5\n",
    "                best_results['recall'] = sum(recall_scores)/5\n",
    "                best_results['accuracy'] = sum(accuracy_scores)/5"
   ]
  },
  {
   "cell_type": "code",
   "execution_count": 76,
   "metadata": {},
   "outputs": [
    {
     "data": {
      "text/plain": [
       "{'weight': 'balanced', 'degree': 2}"
      ]
     },
     "execution_count": 76,
     "metadata": {},
     "output_type": "execute_result"
    }
   ],
   "source": [
    "best_params"
   ]
  },
  {
   "cell_type": "code",
   "execution_count": 78,
   "metadata": {},
   "outputs": [
    {
     "data": {
      "text/plain": [
       "{'f1': 0.6746838100020767,\n",
       " 'precision': 0.6601056031454443,\n",
       " 'recall': 0.7129435896535296,\n",
       " 'accuracy': 0.8471764705882352}"
      ]
     },
     "execution_count": 78,
     "metadata": {},
     "output_type": "execute_result"
    }
   ],
   "source": [
    "best_results"
   ]
  },
  {
   "cell_type": "code",
   "execution_count": 77,
   "metadata": {},
   "outputs": [
    {
     "name": "stdout",
     "output_type": "stream",
     "text": [
      "F1 Score: 0.5544554455445545\n",
      "Recall Score: 0.6436781609195402\n",
      "Precision Score: 0.48695652173913045\n",
      "Accuracy Score: 0.8919567827130852\n"
     ]
    }
   ],
   "source": [
    "clf = SVC(kernel = 'poly', class_weight = best_params['weight'], degree = best_params['degree'])\n",
    "tfidf_vectorizer = TfidfVectorizer(max_df = 0.85, min_df = 0.01, ngram_range = (1,2))\n",
    "\n",
    "X_train = train_data['sentence']\n",
    "Y_train = train_data['label']\n",
    "\n",
    "X_train_vectorized = tfidf_vectorizer.fit_transform(X_train)\n",
    "clf.fit(X_train_vectorized.toarray(), Y_train)\n",
    "\n",
    "X_test = eval_data['sentence']\n",
    "Y_test = eval_data['label']\n",
    "\n",
    "X_test_vectorized = tfidf_vectorizer.transform(X_test)\n",
    "Y_pred = clf.predict(X_test_vectorized.toarray())\n",
    "\n",
    "print(f\"F1 Score: {f1_score(Y_test, Y_pred)}\")\n",
    "print(f\"Recall Score: {recall_score(Y_test, Y_pred)}\")\n",
    "print(f\"Precision Score: {precision_score(Y_test, Y_pred)}\")\n",
    "print(f\"Accuracy Score: {accuracy_score(Y_test, Y_pred)}\")"
   ]
  },
  {
   "cell_type": "code",
   "execution_count": 79,
   "metadata": {},
   "outputs": [
    {
     "name": "stdout",
     "output_type": "stream",
     "text": [
      "687 59 31 56\n"
     ]
    },
    {
     "data": {
      "text/plain": [
       "array([[687,  59],\n",
       "       [ 31,  56]], dtype=int64)"
      ]
     },
     "metadata": {},
     "output_type": "display_data"
    }
   ],
   "source": [
    "tn, fp, fn, tp = confusion_matrix(Y_test, Y_pred).ravel()\n",
    "print(tn, fp, fn, tp)\n",
    "display(confusion_matrix(Y_test, Y_pred))"
   ]
  },
  {
   "cell_type": "markdown",
   "metadata": {},
   "source": [
    "## XG Boost"
   ]
  },
  {
   "cell_type": "code",
   "execution_count": 6,
   "metadata": {},
   "outputs": [],
   "source": [
    "import xgboost\n",
    "import optuna"
   ]
  },
  {
   "cell_type": "code",
   "execution_count": 7,
   "metadata": {},
   "outputs": [
    {
     "name": "stderr",
     "output_type": "stream",
     "text": [
      "\u001b[32m[I 2022-09-05 01:47:46,409]\u001b[0m A new study created in memory with name: no-name-77c8e512-07b9-4ee0-a32f-ae0c32d4b35a\u001b[0m\n",
      "\u001b[32m[I 2022-09-05 01:49:39,879]\u001b[0m Trial 0 finished with value: 0.6414523449319214 and parameters: {'n_estimators': 843, 'max_depth': 10, 'learning_rate': 0.06216023933264048, 'reg_lambda': 0.31096684141469466}. Best is trial 0 with value: 0.6414523449319214.\u001b[0m\n",
      "\u001b[32m[I 2022-09-05 01:50:42,615]\u001b[0m Trial 1 finished with value: 0.6533127889060092 and parameters: {'n_estimators': 618, 'max_depth': 7, 'learning_rate': 0.08067371311680485, 'reg_lambda': 1.7024272085976702}. Best is trial 1 with value: 0.6533127889060092.\u001b[0m\n",
      "\u001b[32m[I 2022-09-05 01:51:14,521]\u001b[0m Trial 2 finished with value: 0.6483870967741935 and parameters: {'n_estimators': 346, 'max_depth': 6, 'learning_rate': 0.02534252016855842, 'reg_lambda': 0.9987680244323739}. Best is trial 1 with value: 0.6533127889060092.\u001b[0m\n",
      "\u001b[32m[I 2022-09-05 01:52:29,022]\u001b[0m Trial 3 finished with value: 0.6583850931677019 and parameters: {'n_estimators': 461, 'max_depth': 12, 'learning_rate': 0.02657278565962561, 'reg_lambda': 0.5591641519745094}. Best is trial 3 with value: 0.6583850931677019.\u001b[0m\n",
      "\u001b[32m[I 2022-09-05 01:54:44,451]\u001b[0m Trial 4 finished with value: 0.6646525679758308 and parameters: {'n_estimators': 851, 'max_depth': 12, 'learning_rate': 0.06257580544191949, 'reg_lambda': 1.7017677355674228}. Best is trial 4 with value: 0.6646525679758308.\u001b[0m\n",
      "\u001b[32m[I 2022-09-05 01:55:43,171]\u001b[0m Trial 5 finished with value: 0.6540880503144654 and parameters: {'n_estimators': 469, 'max_depth': 9, 'learning_rate': 0.029237700577656275, 'reg_lambda': 1.0756733114649524}. Best is trial 4 with value: 0.6646525679758308.\u001b[0m\n",
      "\u001b[32m[I 2022-09-05 01:56:16,246]\u001b[0m Trial 6 finished with value: 0.6624605678233437 and parameters: {'n_estimators': 237, 'max_depth': 10, 'learning_rate': 0.037406991380453086, 'reg_lambda': 1.5904310021275399}. Best is trial 4 with value: 0.6646525679758308.\u001b[0m\n",
      "\u001b[32m[I 2022-09-05 01:57:32,161]\u001b[0m Trial 7 finished with value: 0.6591639871382636 and parameters: {'n_estimators': 602, 'max_depth': 9, 'learning_rate': 0.014391564729019188, 'reg_lambda': 1.8723314402497746}. Best is trial 4 with value: 0.6646525679758308.\u001b[0m\n",
      "\u001b[32m[I 2022-09-05 01:58:48,786]\u001b[0m Trial 8 finished with value: 0.6635944700460831 and parameters: {'n_estimators': 686, 'max_depth': 8, 'learning_rate': 0.0913423313196365, 'reg_lambda': 1.885297035371773}. Best is trial 4 with value: 0.6646525679758308.\u001b[0m\n",
      "\u001b[32m[I 2022-09-05 01:59:40,996]\u001b[0m Trial 9 finished with value: 0.6496815286624203 and parameters: {'n_estimators': 967, 'max_depth': 3, 'learning_rate': 0.07438918805003192, 'reg_lambda': 0.1052118391396427}. Best is trial 4 with value: 0.6646525679758308.\u001b[0m\n",
      "\u001b[32m[I 2022-09-05 02:01:47,199]\u001b[0m Trial 10 finished with value: 0.6646433990895295 and parameters: {'n_estimators': 794, 'max_depth': 12, 'learning_rate': 0.05365182361484659, 'reg_lambda': 1.353129414491206}. Best is trial 4 with value: 0.6646525679758308.\u001b[0m\n",
      "\u001b[32m[I 2022-09-05 02:03:52,316]\u001b[0m Trial 11 finished with value: 0.665648854961832 and parameters: {'n_estimators': 784, 'max_depth': 12, 'learning_rate': 0.05253519132360042, 'reg_lambda': 1.2919594353796535}. Best is trial 11 with value: 0.665648854961832.\u001b[0m\n",
      "\u001b[32m[I 2022-09-05 02:06:21,953]\u001b[0m Trial 12 finished with value: 0.6606060606060605 and parameters: {'n_estimators': 942, 'max_depth': 12, 'learning_rate': 0.06114982916264004, 'reg_lambda': 1.339796424813011}. Best is trial 11 with value: 0.665648854961832.\u001b[0m\n",
      "\u001b[32m[I 2022-09-05 02:08:16,275]\u001b[0m Trial 13 finished with value: 0.6514459665144596 and parameters: {'n_estimators': 767, 'max_depth': 11, 'learning_rate': 0.04638872448712514, 'reg_lambda': 0.9005200930775734}. Best is trial 11 with value: 0.665648854961832.\u001b[0m\n",
      "\u001b[32m[I 2022-09-05 02:09:15,064]\u001b[0m Trial 14 finished with value: 0.5982300884955752 and parameters: {'n_estimators': 871, 'max_depth': 4, 'learning_rate': 0.003265061511770556, 'reg_lambda': 1.5181700246037109}. Best is trial 11 with value: 0.665648854961832.\u001b[0m\n",
      "\u001b[32m[I 2022-09-05 02:11:00,482]\u001b[0m Trial 15 finished with value: 0.6596066565809379 and parameters: {'n_estimators': 716, 'max_depth': 11, 'learning_rate': 0.07604353668989393, 'reg_lambda': 1.224172737124157}. Best is trial 11 with value: 0.665648854961832.\u001b[0m\n",
      "\u001b[32m[I 2022-09-05 02:12:28,850]\u001b[0m Trial 16 finished with value: 0.6506024096385543 and parameters: {'n_estimators': 991, 'max_depth': 6, 'learning_rate': 0.0963209990427219, 'reg_lambda': 0.7550800722609907}. Best is trial 11 with value: 0.665648854961832.\u001b[0m\n",
      "\u001b[32m[I 2022-09-05 02:14:01,429]\u001b[0m Trial 17 finished with value: 0.664624808575804 and parameters: {'n_estimators': 679, 'max_depth': 10, 'learning_rate': 0.04721755906316692, 'reg_lambda': 1.716118581290853}. Best is trial 11 with value: 0.665648854961832.\u001b[0m\n",
      "\u001b[32m[I 2022-09-05 02:15:18,735]\u001b[0m Trial 18 finished with value: 0.665648854961832 and parameters: {'n_estimators': 522, 'max_depth': 11, 'learning_rate': 0.06577195175255893, 'reg_lambda': 1.4682219257759264}. Best is trial 11 with value: 0.665648854961832.\u001b[0m\n",
      "\u001b[32m[I 2022-09-05 02:15:37,206]\u001b[0m Trial 19 finished with value: 0.6625 and parameters: {'n_estimators': 120, 'max_depth': 11, 'learning_rate': 0.07098218537141154, 'reg_lambda': 1.204413736806642}. Best is trial 11 with value: 0.665648854961832.\u001b[0m\n",
      "\u001b[32m[I 2022-09-05 02:16:33,659]\u001b[0m Trial 20 finished with value: 0.6686838124054464 and parameters: {'n_estimators': 497, 'max_depth': 8, 'learning_rate': 0.08629314631881962, 'reg_lambda': 1.4482713860109766}. Best is trial 20 with value: 0.6686838124054464.\u001b[0m\n",
      "\u001b[32m[I 2022-09-05 02:17:29,212]\u001b[0m Trial 21 finished with value: 0.6605222734254992 and parameters: {'n_estimators': 488, 'max_depth': 8, 'learning_rate': 0.08453807725609001, 'reg_lambda': 1.4958803672721406}. Best is trial 20 with value: 0.6686838124054464.\u001b[0m\n",
      "\u001b[32m[I 2022-09-05 02:18:16,494]\u001b[0m Trial 22 finished with value: 0.6666666666666666 and parameters: {'n_estimators': 378, 'max_depth': 9, 'learning_rate': 0.09970871570953586, 'reg_lambda': 1.30407450634287}. Best is trial 20 with value: 0.6686838124054464.\u001b[0m\n",
      "\u001b[32m[I 2022-09-05 02:19:01,026]\u001b[0m Trial 23 finished with value: 0.6584992343032159 and parameters: {'n_estimators': 355, 'max_depth': 9, 'learning_rate': 0.09042244141646703, 'reg_lambda': 1.4479997654836352}. Best is trial 20 with value: 0.6686838124054464.\u001b[0m\n",
      "\u001b[32m[I 2022-09-05 02:19:37,267]\u001b[0m Trial 24 finished with value: 0.6574500768049155 and parameters: {'n_estimators': 357, 'max_depth': 7, 'learning_rate': 0.09982609121413513, 'reg_lambda': 1.1804317477234614}. Best is trial 20 with value: 0.6686838124054464.\u001b[0m\n",
      "\u001b[32m[I 2022-09-05 02:20:13,273]\u001b[0m Trial 25 finished with value: 0.660436137071651 and parameters: {'n_estimators': 403, 'max_depth': 6, 'learning_rate': 0.08555613825659016, 'reg_lambda': 0.8108751463528671}. Best is trial 20 with value: 0.6686838124054464.\u001b[0m\n",
      "\u001b[32m[I 2022-09-05 02:21:16,485]\u001b[0m Trial 26 finished with value: 0.6533742331288342 and parameters: {'n_estimators': 560, 'max_depth': 8, 'learning_rate': 0.06653555285094885, 'reg_lambda': 1.9976578996449539}. Best is trial 20 with value: 0.6686838124054464.\u001b[0m\n",
      "\u001b[32m[I 2022-09-05 02:21:48,783]\u001b[0m Trial 27 finished with value: 0.6676970633693972 and parameters: {'n_estimators': 260, 'max_depth': 9, 'learning_rate': 0.08958136814319778, 'reg_lambda': 1.0959806944589885}. Best is trial 20 with value: 0.6686838124054464.\u001b[0m\n",
      "\u001b[32m[I 2022-09-05 02:22:19,569]\u001b[0m Trial 28 finished with value: 0.6676923076923077 and parameters: {'n_estimators': 246, 'max_depth': 9, 'learning_rate': 0.09262853943029141, 'reg_lambda': 1.0695283927972654}. Best is trial 20 with value: 0.6686838124054464.\u001b[0m\n",
      "\u001b[32m[I 2022-09-05 02:22:51,797]\u001b[0m Trial 29 finished with value: 0.6677067082683308 and parameters: {'n_estimators': 232, 'max_depth': 10, 'learning_rate': 0.09009261079195924, 'reg_lambda': 0.5423412915851428}. Best is trial 20 with value: 0.6686838124054464.\u001b[0m\n",
      "\u001b[32m[I 2022-09-05 02:23:09,384]\u001b[0m Trial 30 finished with value: 0.6457680250783698 and parameters: {'n_estimators': 124, 'max_depth': 10, 'learning_rate': 0.08898458121185966, 'reg_lambda': 0.5371960668767751}. Best is trial 20 with value: 0.6686838124054464.\u001b[0m\n"
     ]
    },
    {
     "name": "stderr",
     "output_type": "stream",
     "text": [
      "\u001b[32m[I 2022-09-05 02:23:41,568]\u001b[0m Trial 31 finished with value: 0.654434250764526 and parameters: {'n_estimators': 232, 'max_depth': 10, 'learning_rate': 0.08221791111709822, 'reg_lambda': 0.6117583581670009}. Best is trial 20 with value: 0.6686838124054464.\u001b[0m\n",
      "\u001b[32m[I 2022-09-05 02:24:05,457]\u001b[0m Trial 32 finished with value: 0.660436137071651 and parameters: {'n_estimators': 232, 'max_depth': 7, 'learning_rate': 0.07790535959355319, 'reg_lambda': 0.35453750070317824}. Best is trial 20 with value: 0.6686838124054464.\u001b[0m\n",
      "\u001b[32m[I 2022-09-05 02:24:36,898]\u001b[0m Trial 33 finished with value: 0.6625577812018489 and parameters: {'n_estimators': 275, 'max_depth': 8, 'learning_rate': 0.09303946604046916, 'reg_lambda': 1.0501993340931988}. Best is trial 20 with value: 0.6686838124054464.\u001b[0m\n",
      "\u001b[32m[I 2022-09-05 02:25:13,266]\u001b[0m Trial 34 finished with value: 0.6635658914728682 and parameters: {'n_estimators': 293, 'max_depth': 9, 'learning_rate': 0.08241511180807155, 'reg_lambda': 0.9264966948900104}. Best is trial 20 with value: 0.6686838124054464.\u001b[0m\n",
      "\u001b[32m[I 2022-09-05 02:25:39,273]\u001b[0m Trial 35 finished with value: 0.6584234930448223 and parameters: {'n_estimators': 186, 'max_depth': 10, 'learning_rate': 0.08817459564874439, 'reg_lambda': 0.7336423695380305}. Best is trial 20 with value: 0.6686838124054464.\u001b[0m\n",
      "\u001b[32m[I 2022-09-05 02:26:01,462]\u001b[0m Trial 36 finished with value: 0.6529968454258676 and parameters: {'n_estimators': 175, 'max_depth': 9, 'learning_rate': 0.09533417008873336, 'reg_lambda': 1.1104731704504383}. Best is trial 20 with value: 0.6686838124054464.\u001b[0m\n",
      "\u001b[32m[I 2022-09-05 02:26:27,641]\u001b[0m Trial 37 finished with value: 0.6635220125786163 and parameters: {'n_estimators': 289, 'max_depth': 6, 'learning_rate': 0.07124419525087773, 'reg_lambda': 0.9671765075753243}. Best is trial 20 with value: 0.6686838124054464.\u001b[0m\n",
      "\u001b[32m[I 2022-09-05 02:27:11,049]\u001b[0m Trial 38 finished with value: 0.6615853658536585 and parameters: {'n_estimators': 428, 'max_depth': 7, 'learning_rate': 0.08003314047094146, 'reg_lambda': 0.34962063674654986}. Best is trial 20 with value: 0.6686838124054464.\u001b[0m\n",
      "\u001b[32m[I 2022-09-05 02:27:24,266]\u001b[0m Trial 39 finished with value: 0.6363636363636364 and parameters: {'n_estimators': 163, 'max_depth': 5, 'learning_rate': 0.09381461831564686, 'reg_lambda': 0.1610184258912215}. Best is trial 20 with value: 0.6686838124054464.\u001b[0m\n",
      "\u001b[32m[I 2022-09-05 02:27:59,548]\u001b[0m Trial 40 finished with value: 0.6729559748427674 and parameters: {'n_estimators': 315, 'max_depth': 8, 'learning_rate': 0.0853649815664241, 'reg_lambda': 0.8573402774150938}. Best is trial 40 with value: 0.6729559748427674.\u001b[0m\n",
      "\u001b[32m[I 2022-09-05 02:28:35,851]\u001b[0m Trial 41 finished with value: 0.6584234930448223 and parameters: {'n_estimators': 321, 'max_depth': 8, 'learning_rate': 0.08715326084283566, 'reg_lambda': 0.519161486229238}. Best is trial 40 with value: 0.6729559748427674.\u001b[0m\n",
      "\u001b[32m[I 2022-09-05 02:29:08,079]\u001b[0m Trial 42 finished with value: 0.6646058732612056 and parameters: {'n_estimators': 251, 'max_depth': 9, 'learning_rate': 0.0782655323200618, 'reg_lambda': 0.6469818379048453}. Best is trial 40 with value: 0.6729559748427674.\u001b[0m\n",
      "\u001b[32m[I 2022-09-05 02:29:31,609]\u001b[0m Trial 43 finished with value: 0.658267716535433 and parameters: {'n_estimators': 205, 'max_depth': 8, 'learning_rate': 0.08394582420550849, 'reg_lambda': 0.4482133271336284}. Best is trial 40 with value: 0.6729559748427674.\u001b[0m\n",
      "\u001b[32m[I 2022-09-05 02:30:29,700]\u001b[0m Trial 44 finished with value: 0.6646433990895295 and parameters: {'n_estimators': 428, 'max_depth': 10, 'learning_rate': 0.07311358556517092, 'reg_lambda': 0.8806806770682108}. Best is trial 40 with value: 0.6729559748427674.\u001b[0m\n",
      "\u001b[32m[I 2022-09-05 02:31:08,904]\u001b[0m Trial 45 finished with value: 0.6548956661316213 and parameters: {'n_estimators': 315, 'max_depth': 9, 'learning_rate': 0.032388713502220584, 'reg_lambda': 1.0425374674083037}. Best is trial 40 with value: 0.6729559748427674.\u001b[0m\n",
      "\u001b[32m[I 2022-09-05 02:32:07,831]\u001b[0m Trial 46 finished with value: 0.6534351145038167 and parameters: {'n_estimators': 587, 'max_depth': 7, 'learning_rate': 0.09720360280306246, 'reg_lambda': 1.1355361175540406}. Best is trial 40 with value: 0.6729559748427674.\u001b[0m\n",
      "\u001b[32m[I 2022-09-05 02:32:26,990]\u001b[0m Trial 47 finished with value: 0.6635514018691588 and parameters: {'n_estimators': 148, 'max_depth': 9, 'learning_rate': 0.09121647788536472, 'reg_lambda': 1.6274112081177814}. Best is trial 40 with value: 0.6729559748427674.\u001b[0m\n",
      "\u001b[32m[I 2022-09-05 02:32:56,627]\u001b[0m Trial 48 finished with value: 0.6456692913385826 and parameters: {'n_estimators': 258, 'max_depth': 8, 'learning_rate': 0.05811762329215097, 'reg_lambda': 0.8449360187829678}. Best is trial 40 with value: 0.6729559748427674.\u001b[0m\n",
      "\u001b[32m[I 2022-09-05 02:34:03,392]\u001b[0m Trial 49 finished with value: 0.6717791411042945 and parameters: {'n_estimators': 491, 'max_depth': 10, 'learning_rate': 0.0688890265203371, 'reg_lambda': 0.9689746873937198}. Best is trial 40 with value: 0.6729559748427674.\u001b[0m\n",
      "\u001b[32m[I 2022-09-05 02:35:12,141]\u001b[0m Trial 50 finished with value: 0.6554878048780488 and parameters: {'n_estimators': 506, 'max_depth': 10, 'learning_rate': 0.0683996788641869, 'reg_lambda': 0.6841555524447541}. Best is trial 40 with value: 0.6729559748427674.\u001b[0m\n",
      "\u001b[32m[I 2022-09-05 02:36:10,927]\u001b[0m Trial 51 finished with value: 0.6595419847328244 and parameters: {'n_estimators': 432, 'max_depth': 10, 'learning_rate': 0.07563754670039394, 'reg_lambda': 1.4040641737711281}. Best is trial 40 with value: 0.6729559748427674.\u001b[0m\n",
      "\u001b[32m[I 2022-09-05 02:37:19,379]\u001b[0m Trial 52 finished with value: 0.6585365853658537 and parameters: {'n_estimators': 461, 'max_depth': 11, 'learning_rate': 0.0865934475678187, 'reg_lambda': 1.014324281611837}. Best is trial 40 with value: 0.6729559748427674.\u001b[0m\n",
      "\u001b[32m[I 2022-09-05 02:37:47,872]\u001b[0m Trial 53 finished with value: 0.6573208722741433 and parameters: {'n_estimators': 225, 'max_depth': 9, 'learning_rate': 0.08072065977569817, 'reg_lambda': 1.2467852781115532}. Best is trial 40 with value: 0.6729559748427674.\u001b[0m\n",
      "\u001b[32m[I 2022-09-05 02:39:29,975]\u001b[0m Trial 54 finished with value: 0.662613981762918 and parameters: {'n_estimators': 658, 'max_depth': 11, 'learning_rate': 0.09185715879072985, 'reg_lambda': 0.7824516900069021}. Best is trial 40 with value: 0.6729559748427674.\u001b[0m\n",
      "\u001b[32m[I 2022-09-05 02:40:06,942]\u001b[0m Trial 55 finished with value: 0.6697965571205008 and parameters: {'n_estimators': 328, 'max_depth': 8, 'learning_rate': 0.061016378640309385, 'reg_lambda': 1.1500118253039906}. Best is trial 40 with value: 0.6729559748427674.\u001b[0m\n",
      "\u001b[32m[I 2022-09-05 02:41:06,294]\u001b[0m Trial 56 finished with value: 0.6604938271604939 and parameters: {'n_estimators': 532, 'max_depth': 8, 'learning_rate': 0.05860825400219305, 'reg_lambda': 0.952870420400183}. Best is trial 40 with value: 0.6729559748427674.\u001b[0m\n",
      "\u001b[32m[I 2022-09-05 02:41:45,511]\u001b[0m Trial 57 finished with value: 0.6435331230283912 and parameters: {'n_estimators': 385, 'max_depth': 7, 'learning_rate': 0.041644399514015745, 'reg_lambda': 1.1510832139822615}. Best is trial 40 with value: 0.6729559748427674.\u001b[0m\n",
      "\u001b[32m[I 2022-09-05 02:42:21,677]\u001b[0m Trial 58 finished with value: 0.6540284360189573 and parameters: {'n_estimators': 317, 'max_depth': 8, 'learning_rate': 0.05416126679130222, 'reg_lambda': 1.582221632838829}. Best is trial 40 with value: 0.6729559748427674.\u001b[0m\n",
      "\u001b[32m[I 2022-09-05 02:43:26,318]\u001b[0m Trial 59 finished with value: 0.6769230769230768 and parameters: {'n_estimators': 476, 'max_depth': 10, 'learning_rate': 0.06304971145218723, 'reg_lambda': 1.363541219512416}. Best is trial 59 with value: 0.6769230769230768.\u001b[0m\n",
      "\u001b[32m[I 2022-09-05 02:45:06,478]\u001b[0m Trial 60 finished with value: 0.6574923547400612 and parameters: {'n_estimators': 625, 'max_depth': 12, 'learning_rate': 0.06380495804124428, 'reg_lambda': 1.338147967427853}. Best is trial 59 with value: 0.6769230769230768.\u001b[0m\n",
      "\u001b[32m[I 2022-09-05 02:46:12,862]\u001b[0m Trial 61 finished with value: 0.6542635658914728 and parameters: {'n_estimators': 486, 'max_depth': 10, 'learning_rate': 0.06043859289988869, 'reg_lambda': 1.2831770500531199}. Best is trial 59 with value: 0.6769230769230768.\u001b[0m\n"
     ]
    },
    {
     "name": "stderr",
     "output_type": "stream",
     "text": [
      "\u001b[32m[I 2022-09-05 02:47:29,190]\u001b[0m Trial 62 finished with value: 0.664624808575804 and parameters: {'n_estimators': 560, 'max_depth': 10, 'learning_rate': 0.06712195640747076, 'reg_lambda': 1.4113608210207143}. Best is trial 59 with value: 0.6769230769230768.\u001b[0m\n",
      "\u001b[32m[I 2022-09-05 02:48:21,432]\u001b[0m Trial 63 finished with value: 0.6490683229813664 and parameters: {'n_estimators': 350, 'max_depth': 11, 'learning_rate': 0.05489988238767769, 'reg_lambda': 1.2133835870375957}. Best is trial 59 with value: 0.6769230769230768.\u001b[0m\n",
      "\u001b[32m[I 2022-09-05 02:49:18,434]\u001b[0m Trial 64 finished with value: 0.6687211093990754 and parameters: {'n_estimators': 455, 'max_depth': 9, 'learning_rate': 0.07046685334561835, 'reg_lambda': 1.8008229543801773}. Best is trial 59 with value: 0.6769230769230768.\u001b[0m\n",
      "\u001b[32m[I 2022-09-05 02:50:04,296]\u001b[0m Trial 65 finished with value: 0.6593406593406593 and parameters: {'n_estimators': 403, 'max_depth': 8, 'learning_rate': 0.04772594377678098, 'reg_lambda': 1.724659974979347}. Best is trial 59 with value: 0.6769230769230768.\u001b[0m\n",
      "\u001b[32m[I 2022-09-05 02:50:29,139]\u001b[0m Trial 66 finished with value: 0.6527999999999999 and parameters: {'n_estimators': 455, 'max_depth': 3, 'learning_rate': 0.07074673340423107, 'reg_lambda': 1.7916091809112096}. Best is trial 59 with value: 0.6769230769230768.\u001b[0m\n",
      "\u001b[32m[I 2022-09-05 02:51:35,582]\u001b[0m Trial 67 finished with value: 0.6529318541996831 and parameters: {'n_estimators': 528, 'max_depth': 9, 'learning_rate': 0.021652794209946525, 'reg_lambda': 1.914782882578248}. Best is trial 59 with value: 0.6769230769230768.\u001b[0m\n",
      "\u001b[32m[I 2022-09-05 02:52:24,062]\u001b[0m Trial 68 finished with value: 0.6646153846153846 and parameters: {'n_estimators': 482, 'max_depth': 7, 'learning_rate': 0.06322027103391233, 'reg_lambda': 1.5397023321584058}. Best is trial 59 with value: 0.6769230769230768.\u001b[0m\n",
      "\u001b[32m[I 2022-09-05 02:53:44,099]\u001b[0m Trial 69 finished with value: 0.6625766871165644 and parameters: {'n_estimators': 586, 'max_depth': 10, 'learning_rate': 0.050380310640546995, 'reg_lambda': 1.6483932857245103}. Best is trial 59 with value: 0.6769230769230768.\u001b[0m\n",
      "\u001b[32m[I 2022-09-05 02:54:41,292]\u001b[0m Trial 70 finished with value: 0.6636085626911314 and parameters: {'n_estimators': 387, 'max_depth': 11, 'learning_rate': 0.07376487675148849, 'reg_lambda': 1.812298411949975}. Best is trial 59 with value: 0.6769230769230768.\u001b[0m\n",
      "\u001b[32m[I 2022-09-05 02:55:38,298]\u001b[0m Trial 71 finished with value: 0.6208053691275168 and parameters: {'n_estimators': 448, 'max_depth': 9, 'learning_rate': 0.002673769495457369, 'reg_lambda': 0.9832714824596243}. Best is trial 59 with value: 0.6769230769230768.\u001b[0m\n",
      "\u001b[32m[I 2022-09-05 02:55:51,529]\u001b[0m Trial 72 finished with value: 0.6666666666666666 and parameters: {'n_estimators': 101, 'max_depth': 9, 'learning_rate': 0.07687843398268648, 'reg_lambda': 1.0855035116367806}. Best is trial 59 with value: 0.6769230769230768.\u001b[0m\n",
      "\u001b[32m[I 2022-09-05 02:56:14,957]\u001b[0m Trial 73 finished with value: 0.6562009419152277 and parameters: {'n_estimators': 206, 'max_depth': 8, 'learning_rate': 0.06972384302436219, 'reg_lambda': 1.260287923664731}. Best is trial 59 with value: 0.6769230769230768.\u001b[0m\n",
      "\u001b[32m[I 2022-09-05 02:57:00,443]\u001b[0m Trial 74 finished with value: 0.6676970633693972 and parameters: {'n_estimators': 328, 'max_depth': 10, 'learning_rate': 0.05690065045225626, 'reg_lambda': 0.257234705086401}. Best is trial 59 with value: 0.6769230769230768.\u001b[0m\n",
      "\u001b[32m[I 2022-09-05 02:57:46,440]\u001b[0m Trial 75 finished with value: 0.6584615384615385 and parameters: {'n_estimators': 334, 'max_depth': 10, 'learning_rate': 0.05843494902147655, 'reg_lambda': 0.19321251886147583}. Best is trial 59 with value: 0.6769230769230768.\u001b[0m\n",
      "\u001b[32m[I 2022-09-05 02:58:42,284]\u001b[0m Trial 76 finished with value: 0.6523076923076924 and parameters: {'n_estimators': 406, 'max_depth': 10, 'learning_rate': 0.06554819408037926, 'reg_lambda': 0.22863391493699367}. Best is trial 59 with value: 0.6769230769230768.\u001b[0m\n",
      "\u001b[32m[I 2022-09-05 02:59:37,202]\u001b[0m Trial 77 finished with value: 0.6522411128284389 and parameters: {'n_estimators': 369, 'max_depth': 11, 'learning_rate': 0.05560273592373553, 'reg_lambda': 0.4264926210744375}. Best is trial 59 with value: 0.6769230769230768.\u001b[0m\n",
      "\u001b[32m[I 2022-09-05 03:00:14,084]\u001b[0m Trial 78 finished with value: 0.671850699844479 and parameters: {'n_estimators': 293, 'max_depth': 9, 'learning_rate': 0.08262015993424683, 'reg_lambda': 1.3725211624905298}. Best is trial 59 with value: 0.6769230769230768.\u001b[0m\n",
      "\u001b[32m[I 2022-09-05 03:00:46,832]\u001b[0m Trial 79 finished with value: 0.6677067082683308 and parameters: {'n_estimators': 293, 'max_depth': 8, 'learning_rate': 0.0799400273896651, 'reg_lambda': 1.3602402764920687}. Best is trial 59 with value: 0.6769230769230768.\u001b[0m\n",
      "\u001b[32m[I 2022-09-05 03:01:19,900]\u001b[0m Trial 80 finished with value: 0.6645865834633385 and parameters: {'n_estimators': 288, 'max_depth': 8, 'learning_rate': 0.07988769122762013, 'reg_lambda': 1.391819795770286}. Best is trial 59 with value: 0.6769230769230768.\u001b[0m\n",
      "\u001b[32m[I 2022-09-05 03:01:53,110]\u001b[0m Trial 81 finished with value: 0.6522411128284389 and parameters: {'n_estimators': 297, 'max_depth': 8, 'learning_rate': 0.08428003938949592, 'reg_lambda': 1.4840781556167288}. Best is trial 59 with value: 0.6769230769230768.\u001b[0m\n",
      "\u001b[32m[I 2022-09-05 03:02:55,813]\u001b[0m Trial 82 finished with value: 0.6605222734254992 and parameters: {'n_estimators': 507, 'max_depth': 9, 'learning_rate': 0.0731342795801674, 'reg_lambda': 1.3272422458608075}. Best is trial 59 with value: 0.6769230769230768.\u001b[0m\n",
      "\u001b[32m[I 2022-09-05 03:03:57,456]\u001b[0m Trial 83 finished with value: 0.6615853658536585 and parameters: {'n_estimators': 550, 'max_depth': 8, 'learning_rate': 0.08279055997494938, 'reg_lambda': 1.4520197485919184}. Best is trial 59 with value: 0.6769230769230768.\u001b[0m\n",
      "\u001b[32m[I 2022-09-05 03:04:24,030]\u001b[0m Trial 84 finished with value: 0.6625194401244168 and parameters: {'n_estimators': 209, 'max_depth': 9, 'learning_rate': 0.07828954202629408, 'reg_lambda': 1.5521081358874165}. Best is trial 59 with value: 0.6769230769230768.\u001b[0m\n",
      "\u001b[32m[I 2022-09-05 03:04:50,913]\u001b[0m Trial 85 finished with value: 0.6457680250783698 and parameters: {'n_estimators': 267, 'max_depth': 7, 'learning_rate': 0.08876236964159709, 'reg_lambda': 1.1699597519810843}. Best is trial 59 with value: 0.6769230769230768.\u001b[0m\n",
      "\u001b[32m[I 2022-09-05 03:05:26,562]\u001b[0m Trial 86 finished with value: 0.6687598116169545 and parameters: {'n_estimators': 352, 'max_depth': 7, 'learning_rate': 0.06100928561031354, 'reg_lambda': 1.3586457192195667}. Best is trial 59 with value: 0.6769230769230768.\u001b[0m\n",
      "\u001b[32m[I 2022-09-05 03:06:01,737]\u001b[0m Trial 87 finished with value: 0.6614664586583463 and parameters: {'n_estimators': 352, 'max_depth': 7, 'learning_rate': 0.0621782706575952, 'reg_lambda': 0.7213190408685969}. Best is trial 59 with value: 0.6769230769230768.\u001b[0m\n",
      "\u001b[32m[I 2022-09-05 03:06:38,248]\u001b[0m Trial 88 finished with value: 0.6677067082683308 and parameters: {'n_estimators': 414, 'max_depth': 6, 'learning_rate': 0.06837662171041081, 'reg_lambda': 1.374398994290548}. Best is trial 59 with value: 0.6769230769230768.\u001b[0m\n",
      "\u001b[32m[I 2022-09-05 03:07:18,207]\u001b[0m Trial 89 finished with value: 0.6561514195583596 and parameters: {'n_estimators': 441, 'max_depth': 6, 'learning_rate': 0.06051689109151053, 'reg_lambda': 0.875071470890499}. Best is trial 59 with value: 0.6769230769230768.\u001b[0m\n",
      "\u001b[32m[I 2022-09-05 03:07:49,386]\u001b[0m Trial 90 finished with value: 0.6496 and parameters: {'n_estimators': 398, 'max_depth': 5, 'learning_rate': 0.0648303085915718, 'reg_lambda': 1.509998924559254}. Best is trial 59 with value: 0.6769230769230768.\u001b[0m\n",
      "\u001b[32m[I 2022-09-05 03:08:26,475]\u001b[0m Trial 91 finished with value: 0.65818759936407 and parameters: {'n_estimators': 475, 'max_depth': 5, 'learning_rate': 0.06956199304587496, 'reg_lambda': 1.4046623105573743}. Best is trial 59 with value: 0.6769230769230768.\u001b[0m\n",
      "\u001b[32m[I 2022-09-05 03:09:03,678]\u001b[0m Trial 92 finished with value: 0.6604651162790697 and parameters: {'n_estimators': 414, 'max_depth': 6, 'learning_rate': 0.09708654897907597, 'reg_lambda': 1.2714370552119998}. Best is trial 59 with value: 0.6769230769230768.\u001b[0m\n"
     ]
    },
    {
     "name": "stderr",
     "output_type": "stream",
     "text": [
      "\u001b[32m[I 2022-09-05 03:09:36,796]\u001b[0m Trial 93 finished with value: 0.6635071090047393 and parameters: {'n_estimators': 366, 'max_depth': 6, 'learning_rate': 0.06812143798379372, 'reg_lambda': 1.2196917160963807}. Best is trial 59 with value: 0.6769230769230768.\u001b[0m\n",
      "\u001b[32m[I 2022-09-05 03:10:28,234]\u001b[0m Trial 94 finished with value: 0.6575342465753425 and parameters: {'n_estimators': 512, 'max_depth': 7, 'learning_rate': 0.074783927166034, 'reg_lambda': 1.033261003201417}. Best is trial 59 with value: 0.6769230769230768.\u001b[0m\n",
      "\u001b[32m[I 2022-09-05 03:11:02,074]\u001b[0m Trial 95 finished with value: 0.6666666666666666 and parameters: {'n_estimators': 298, 'max_depth': 8, 'learning_rate': 0.08603228266838206, 'reg_lambda': 0.5963048006904113}. Best is trial 59 with value: 0.6769230769230768.\u001b[0m\n",
      "\u001b[32m[I 2022-09-05 03:11:36,473]\u001b[0m Trial 96 finished with value: 0.6625577812018489 and parameters: {'n_estimators': 273, 'max_depth': 9, 'learning_rate': 0.08116110110225463, 'reg_lambda': 1.3280639105311176}. Best is trial 59 with value: 0.6769230769230768.\u001b[0m\n",
      "\u001b[32m[I 2022-09-05 03:12:23,343]\u001b[0m Trial 97 finished with value: 0.655436447166922 and parameters: {'n_estimators': 467, 'max_depth': 7, 'learning_rate': 0.09482770795133896, 'reg_lambda': 1.443123765546643}. Best is trial 59 with value: 0.6769230769230768.\u001b[0m\n",
      "\u001b[32m[I 2022-09-05 03:13:24,566]\u001b[0m Trial 98 finished with value: 0.6676923076923077 and parameters: {'n_estimators': 495, 'max_depth': 9, 'learning_rate': 0.05265396967193076, 'reg_lambda': 1.6691504053100596}. Best is trial 59 with value: 0.6769230769230768.\u001b[0m\n",
      "\u001b[32m[I 2022-09-05 03:14:11,879]\u001b[0m Trial 99 finished with value: 0.6553323029366306 and parameters: {'n_estimators': 424, 'max_depth': 8, 'learning_rate': 0.07127305010623404, 'reg_lambda': 1.3755452105329136}. Best is trial 59 with value: 0.6769230769230768.\u001b[0m\n"
     ]
    }
   ],
   "source": [
    "X = train_data['sentence']\n",
    "Y = train_data['label']\n",
    "\n",
    "\n",
    "def objective(trial):\n",
    "    n_estimators = trial.suggest_int('n_estimators', 100, 1000) \n",
    "    max_depth = trial.suggest_int('max_depth', 3, 12)\n",
    "    learning_rate = trial.suggest_float('learning_rate', 0.001, 0.1)\n",
    "    reg_lambda = trial.suggest_float('reg_lambda', 0.1, 2)\n",
    "    kf = KFold(n_splits = 5)\n",
    "    for train_index, test_index in kf.split(X):\n",
    "        X_train, X_test = X[train_index], X[test_index]\n",
    "        Y_train, Y_test = Y[train_index], Y[test_index]\n",
    "        vectorizer = TfidfVectorizer(max_df = 0.85, min_df = 0.01, ngram_range = (1,2))\n",
    "        vectorizer.fit(X_train)\n",
    "        X_train_vectorized = vectorizer.transform(X_train)\n",
    "        X_test_vectorized = vectorizer.transform(X_test)\n",
    "        clf = xgboost.XGBClassifier(n_estimators = n_estimators, max_depth = max_depth, learning_rate = learning_rate, reg_lambda = reg_lambda)\n",
    "        clf.fit(X_train_vectorized.toarray(), Y_train)\n",
    "        Y_pred = clf.predict(X_test_vectorized.toarray())\n",
    "        return f1_score(Y_test, Y_pred)\n",
    "    \n",
    "study = optuna.create_study(direction = 'maximize')\n",
    "study.optimize(objective, n_trials = 100)"
   ]
  },
  {
   "cell_type": "code",
   "execution_count": 7,
   "metadata": {},
   "outputs": [
    {
     "name": "stdout",
     "output_type": "stream",
     "text": [
      "F1 Score: 0.673124126514214\n",
      "Recall Score: 0.6470449363871446\n",
      "Precision Score: 0.7257001988397525\n",
      "Accuracy Score: 0.8552941176470588\n"
     ]
    }
   ],
   "source": [
    "f1_scores = []\n",
    "recall_scores = []\n",
    "precision_scores = []\n",
    "accuracy_scores = []\n",
    "\n",
    "X = train_data['sentence']\n",
    "Y = train_data['label']\n",
    "\n",
    "kf = KFold(n_splits = 5)\n",
    "for train_index, test_index in kf.split(X):\n",
    "    X_train, X_test = X[train_index], X[test_index]\n",
    "    Y_train, Y_test = Y[train_index], Y[test_index]\n",
    "    vectorizer = TfidfVectorizer(max_df = 0.85, min_df = 0.01, ngram_range = (1,2))\n",
    "    vectorizer.fit(X_train)\n",
    "    X_train_vectorized = vectorizer.transform(X_train)\n",
    "    X_test_vectorized = vectorizer.transform(X_test)\n",
    "    clf = xgboost.XGBClassifier(n_estimators = 476, max_depth = 10, learning_rate = 0.06304971145218723, reg_lambda = 1.363541219512416)\n",
    "    clf.fit(X_train_vectorized.toarray(), Y_train)\n",
    "    Y_pred = clf.predict(X_test_vectorized.toarray())\n",
    "    \n",
    "    f1_scores.append(f1_score(Y_test, Y_pred))\n",
    "    recall_scores.append(recall_score(Y_test, Y_pred))\n",
    "    precision_scores.append(precision_score(Y_test, Y_pred))\n",
    "    accuracy_scores.append(accuracy_score(Y_test, Y_pred))\n",
    "print(f\"F1 Score: {sum(f1_scores)/5}\")\n",
    "print(f\"Recall Score: {sum(recall_scores)/5}\")\n",
    "print(f\"Precision Score: {sum(precision_scores)/5}\")\n",
    "print(f\"Accuracy Score: {sum(accuracy_scores)/5}\")"
   ]
  },
  {
   "cell_type": "code",
   "execution_count": 8,
   "metadata": {},
   "outputs": [
    {
     "data": {
      "text/plain": [
       "{'n_estimators': 476,\n",
       " 'max_depth': 10,\n",
       " 'learning_rate': 0.06304971145218723,\n",
       " 'reg_lambda': 1.363541219512416}"
      ]
     },
     "execution_count": 8,
     "metadata": {},
     "output_type": "execute_result"
    }
   ],
   "source": [
    "study.best_params"
   ]
  },
  {
   "cell_type": "code",
   "execution_count": 17,
   "metadata": {},
   "outputs": [
    {
     "data": {
      "text/plain": [
       "{'n_estimators': 451,\n",
       " 'max_depth': 9,\n",
       " 'learning_rate': 0.07927128145186134,\n",
       " 'reg_lambda': 1.477291705778975}"
      ]
     },
     "execution_count": 17,
     "metadata": {},
     "output_type": "execute_result"
    }
   ],
   "source": [
    "study.best_params"
   ]
  },
  {
   "cell_type": "code",
   "execution_count": 9,
   "metadata": {},
   "outputs": [
    {
     "name": "stdout",
     "output_type": "stream",
     "text": [
      "F1 Score: 0.5664739884393063\n",
      "Recall Score: 0.5632183908045977\n",
      "Precision Score: 0.5697674418604651\n",
      "Accuracy Score: 0.9099639855942377\n"
     ]
    }
   ],
   "source": [
    "vect = vectorizer = TfidfVectorizer(max_df = 0.85, min_df = 0.01, ngram_range = (1,2))\n",
    "clf = xgboost.XGBClassifier(n_estimators = study.best_params['n_estimators'],\n",
    "                           max_depth = study.best_params['max_depth'],\n",
    "                           learning_rate = study.best_params['learning_rate'],\n",
    "                           reg_lambda = study.best_params['reg_lambda'])\n",
    "\n",
    "vect.fit(X)\n",
    "X_test, Y_test = eval_data['sentence'], eval_data['label']\n",
    "X_train_vectorized = vect.transform(X)\n",
    "X_test_vectorized = vect.transform(X_test)\n",
    "\n",
    "clf.fit(X_train_vectorized.toarray(), Y)\n",
    "Y_pred = clf.predict(X_test_vectorized.toarray())\n",
    "\n",
    "print(f\"F1 Score: {f1_score(Y_test, Y_pred)}\")\n",
    "print(f\"Recall Score: {recall_score(Y_test, Y_pred)}\")\n",
    "print(f\"Precision Score: {precision_score(Y_test, Y_pred)}\")\n",
    "print(f\"Accuracy Score: {accuracy_score(Y_test, Y_pred)}\")"
   ]
  },
  {
   "cell_type": "code",
   "execution_count": 10,
   "metadata": {},
   "outputs": [
    {
     "data": {
      "text/plain": [
       "array([[709,  37],\n",
       "       [ 38,  49]], dtype=int64)"
      ]
     },
     "execution_count": 10,
     "metadata": {},
     "output_type": "execute_result"
    }
   ],
   "source": [
    "confusion_matrix(Y_test, Y_pred)"
   ]
  },
  {
   "cell_type": "markdown",
   "metadata": {},
   "source": [
    "### Overall summary of results of Naive Bayes and SVM\n",
    "\n",
    "Overall, we have 3 main results <br>\n",
    "1. TF-IDF with Gaussian NB\n",
    "2. Count Vectorizer with Multinomial NB\n",
    "3. TF-IDF with SVM \n",
    "\n",
    "\n",
    "### Cross Validation Scores\n",
    "\n",
    "|Model|F1 Score|Precision|Recall|Accuracy|\n",
    "|---|---|---|---|---|\n",
    "|TF-IDF with Gaussian NB| 0.5517 | 0.4512 | 0.7792 | 0.7360 |  \n",
    "|BOW with Multinomial NB| 0.6336 | 0.6483 | 0.6423 | 0.8355 |\n",
    "|TF-IDF with SVM Radial| 0.6940 | 0.6580 | 0.7577 | 0.8528 |\n",
    "|TF-IDF with SVM Polynomial| 0.6747 | 0.6601 | 0.7129 | 0.8834 |\n",
    "|XG Boost | 0.6731 | 0.7257 | 0.6470 | 0.8553 |\n",
    "\n",
    "\n",
    "### Test Set Scores\n",
    "\n",
    "|Model|F1 Score|Precision|Recall|Accuracy|\n",
    "|---|---|---|---|---|\n",
    "|TF-IDF with Gaussian NB| 0.4012 | 0.2685 | 0.7931 | 0.7527 |  \n",
    "|BOW with Multinomial NB| 0.5714 | 0.5294 | 0.6207 | 0.9028 |\n",
    "|TF-IDF with SVM Radial | 0.5650 | 0.4632 | 0.7241 | 0.8836 |\n",
    "|TF-IDF with SVM Polynomial| 0.5545 | 0.4870 | 0.6437 | 0.8920 |\n",
    "|XG Boost | 0.5664 | 0.5632 | 0.5697 | 0.9100 | \n",
    "\n",
    "\n",
    "### Test Set Confusion Matrices\n",
    "\n",
    "###### TF-IDF with Gaussian NB\n",
    "||Predict Negative|Predict Positive|\n",
    "|---|---|---|\n",
    "|Actual Negative|558|188|\n",
    "|Actual Positive|18|69|\n",
    "\n",
    "###### Count Vectorizer with Multinomial NB\n",
    "||Predict Negative|Predict Positive|\n",
    "|---|---|---|\n",
    "|Actual Negative|698|48|\n",
    "|Actual Positive|33|54|\n",
    "\n",
    "###### TF-IDF with SVM Radial\n",
    "||Predict Negative|Predict Positive|\n",
    "|---|---|---|\n",
    "|Actual Negative|673|73|\n",
    "|Actual Positive|24|63|\n",
    "\n",
    "###### TF-IDF with SVM Polynomial\n",
    "||Predict Negative|Predict Positive|\n",
    "|---|---|---|\n",
    "|Actual Negative|687|59|\n",
    "|Actual Positive|31|56|\n",
    "\n",
    "##### XG Boost \n",
    "||Predict Negative|Predict Positive|\n",
    "|---|---|---|\n",
    "|Actual Negative|709|37|\n",
    "|Actual Positive|38|49|"
   ]
  },
  {
   "cell_type": "code",
   "execution_count": null,
   "metadata": {},
   "outputs": [],
   "source": []
  }
 ],
 "metadata": {
  "kernelspec": {
   "display_name": "Python 3",
   "language": "python",
   "name": "python3"
  },
  "language_info": {
   "codemirror_mode": {
    "name": "ipython",
    "version": 3
   },
   "file_extension": ".py",
   "mimetype": "text/x-python",
   "name": "python",
   "nbconvert_exporter": "python",
   "pygments_lexer": "ipython3",
   "version": "3.8.3"
  }
 },
 "nbformat": 4,
 "nbformat_minor": 4
}
